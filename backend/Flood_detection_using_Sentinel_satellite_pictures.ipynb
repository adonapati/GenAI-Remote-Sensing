{
  "metadata": {
    "kernelspec": {
      "display_name": "Python 3",
      "name": "python3"
    },
    "language_info": {
      "name": "python",
      "version": "3.10.13",
      "mimetype": "text/x-python",
      "codemirror_mode": {
        "name": "ipython",
        "version": 3
      },
      "pygments_lexer": "ipython3",
      "nbconvert_exporter": "python",
      "file_extension": ".py"
    },
    "kaggle": {
      "accelerator": "gpu",
      "dataSources": [
        {
          "sourceId": 1165040,
          "sourceType": "datasetVersion",
          "datasetId": 660021
        },
        {
          "sourceId": 4916734,
          "sourceType": "datasetVersion",
          "datasetId": 2851368
        },
        {
          "sourceId": 4972059,
          "sourceType": "datasetVersion",
          "datasetId": 1864149
        }
      ],
      "dockerImageVersionId": 30698,
      "isInternetEnabled": true,
      "language": "python",
      "sourceType": "notebook",
      "isGpuEnabled": true
    },
    "colab": {
      "provenance": [],
      "gpuType": "T4",
      "include_colab_link": true
    },
    "accelerator": "GPU"
  },
  "nbformat_minor": 0,
  "nbformat": 4,
  "cells": [
    {
      "cell_type": "markdown",
      "metadata": {
        "id": "view-in-github",
        "colab_type": "text"
      },
      "source": [
        "<a href=\"https://colab.research.google.com/github/adonapati/GenAI-Remote-Sensing/blob/main/Flood_detection_using_Sentinel_satellite_pictures.ipynb\" target=\"_parent\"><img src=\"https://colab.research.google.com/assets/colab-badge.svg\" alt=\"Open In Colab\"/></a>"
      ]
    },
    {
      "cell_type": "code",
      "source": [
        "import tensorflow as tf\n",
        "from numba import cuda\n",
        "\n",
        "cuda.select_device(0)\n",
        "cuda.close()\n",
        "\n",
        "tf.keras.backend.clear_session()"
      ],
      "metadata": {
        "id": "OHGfqD2fQFSC"
      },
      "execution_count": 1,
      "outputs": []
    },
    {
      "source": [
        "# IMPORTANT: RUN THIS CELL IN ORDER TO IMPORT YOUR KAGGLE DATA SOURCES,\n",
        "# THEN FEEL FREE TO DELETE THIS CELL.\n",
        "# NOTE: THIS NOTEBOOK ENVIRONMENT DIFFERS FROM KAGGLE'S PYTHON\n",
        "# ENVIRONMENT SO THERE MAY BE MISSING LIBRARIES USED BY YOUR\n",
        "# NOTEBOOK.\n",
        "import kagglehub\n",
        "franciscoescobar_satellite_images_of_water_bodies_path = kagglehub.dataset_download('franciscoescobar/satellite-images-of-water-bodies')\n",
        "sovitrath_water_bodies_segmentation_dataset_with_split_path = kagglehub.dataset_download('sovitrath/water-bodies-segmentation-dataset-with-split')\n",
        "hhrclemson_flooding_image_dataset_path = kagglehub.dataset_download('hhrclemson/flooding-image-dataset')\n",
        "\n",
        "print('Data source import complete.')\n"
      ],
      "metadata": {
        "id": "bVp_eUz4CZ54",
        "outputId": "7653e17a-f4d2-45af-98b7-222a451dda34",
        "colab": {
          "base_uri": "https://localhost:8080/"
        }
      },
      "cell_type": "code",
      "outputs": [
        {
          "output_type": "stream",
          "name": "stdout",
          "text": [
            "Downloading from https://www.kaggle.com/api/v1/datasets/download/franciscoescobar/satellite-images-of-water-bodies?dataset_version_number=2...\n"
          ]
        },
        {
          "output_type": "stream",
          "name": "stderr",
          "text": [
            "100%|██████████| 247M/247M [00:12<00:00, 20.7MB/s]"
          ]
        },
        {
          "output_type": "stream",
          "name": "stdout",
          "text": [
            "Extracting files...\n"
          ]
        },
        {
          "output_type": "stream",
          "name": "stderr",
          "text": [
            "\n"
          ]
        },
        {
          "output_type": "stream",
          "name": "stdout",
          "text": [
            "Downloading from https://www.kaggle.com/api/v1/datasets/download/sovitrath/water-bodies-segmentation-dataset-with-split?dataset_version_number=1...\n"
          ]
        },
        {
          "output_type": "stream",
          "name": "stderr",
          "text": [
            "100%|██████████| 247M/247M [00:12<00:00, 20.2MB/s]"
          ]
        },
        {
          "output_type": "stream",
          "name": "stdout",
          "text": [
            "Extracting files...\n"
          ]
        },
        {
          "output_type": "stream",
          "name": "stderr",
          "text": [
            "\n"
          ]
        },
        {
          "output_type": "stream",
          "name": "stdout",
          "text": [
            "Downloading from https://www.kaggle.com/api/v1/datasets/download/hhrclemson/flooding-image-dataset?dataset_version_number=5...\n"
          ]
        },
        {
          "output_type": "stream",
          "name": "stderr",
          "text": [
            "100%|██████████| 11.1G/11.1G [08:47<00:00, 22.7MB/s]"
          ]
        },
        {
          "output_type": "stream",
          "name": "stdout",
          "text": [
            "Extracting files...\n"
          ]
        },
        {
          "output_type": "stream",
          "name": "stderr",
          "text": [
            "\n"
          ]
        },
        {
          "output_type": "stream",
          "name": "stdout",
          "text": [
            "Data source import complete.\n"
          ]
        }
      ],
      "execution_count": 2
    },
    {
      "cell_type": "code",
      "source": [
        "import cv2\n",
        "import numpy as np\n",
        "import tensorflow as tf\n",
        "import keras\n",
        "import glob\n",
        "import albumentations as A\n",
        "import matplotlib.pyplot as plt\n",
        "import time"
      ],
      "metadata": {
        "_kg_hide-input": false,
        "execution": {
          "iopub.status.busy": "2024-05-24T08:59:45.086066Z",
          "iopub.execute_input": "2024-05-24T08:59:45.086429Z",
          "iopub.status.idle": "2024-05-24T08:59:58.251131Z",
          "shell.execute_reply.started": "2024-05-24T08:59:45.086398Z",
          "shell.execute_reply": "2024-05-24T08:59:58.250327Z"
        },
        "trusted": true,
        "id": "xnsw218TCZ57",
        "outputId": "f8742ca2-f4da-43c3-9993-7a0e4d4ac174",
        "colab": {
          "base_uri": "https://localhost:8080/"
        }
      },
      "execution_count": 3,
      "outputs": [
        {
          "output_type": "stream",
          "name": "stderr",
          "text": [
            "/usr/local/lib/python3.10/dist-packages/albumentations/__init__.py:24: UserWarning: A new version of Albumentations is available: 1.4.21 (you have 1.4.20). Upgrade using: pip install -U albumentations. To disable automatic update checks, set the environment variable NO_ALBUMENTATIONS_UPDATE to 1.\n",
            "  check_for_updates()\n"
          ]
        }
      ]
    },
    {
      "cell_type": "markdown",
      "source": [
        "# DATASET FORMATION"
      ],
      "metadata": {
        "id": "bdZqIqWqCZ57"
      }
    },
    {
      "cell_type": "code",
      "source": [
        "import os\n",
        "os.listdir('/root/.cache/kagglehub/datasets/sovitrath/water-bodies-segmentation-dataset-with-split/versions/1/Water_Bodies_Dataset_Split')\n",
        "os.listdir('/root/.cache/kagglehub/datasets/franciscoescobar/satellite-images-of-water-bodies/versions/2/Water Bodies Dataset/Images')"
      ],
      "metadata": {
        "id": "lF7RKn4dHid_",
        "outputId": "2054b906-65de-4ed3-9bee-0d47b9fef4d1",
        "colab": {
          "base_uri": "https://localhost:8080/"
        }
      },
      "execution_count": 31,
      "outputs": [
        {
          "output_type": "execute_result",
          "data": {
            "text/plain": [
              "['water_body_7839.jpg',\n",
              " 'water_body_7628.jpg',\n",
              " 'water_body_7638.jpg',\n",
              " 'water_body_2204.jpg',\n",
              " 'water_body_979.jpg',\n",
              " 'water_body_626.jpg',\n",
              " 'water_body_1595.jpg',\n",
              " 'water_body_2491.jpg',\n",
              " 'water_body_2176.jpg',\n",
              " 'water_body_7674.jpg',\n",
              " 'water_body_7368.jpg',\n",
              " 'water_body_1768.jpg',\n",
              " 'water_body_8669.jpg',\n",
              " 'water_body_8727.jpg',\n",
              " 'water_body_775.jpg',\n",
              " 'water_body_2181.jpg',\n",
              " 'water_body_8644.jpg',\n",
              " 'water_body_2206.jpg',\n",
              " 'water_body_1104.jpg',\n",
              " 'water_body_1825.jpg',\n",
              " 'water_body_6374.jpg',\n",
              " 'water_body_7326.jpg',\n",
              " 'water_body_2242.jpg',\n",
              " 'water_body_686.jpg',\n",
              " 'water_body_7082.jpg',\n",
              " 'water_body_6400.jpg',\n",
              " 'water_body_2282.jpg',\n",
              " 'water_body_786.jpg',\n",
              " 'water_body_601.jpg',\n",
              " 'water_body_2531.jpg',\n",
              " 'water_body_7486.jpg',\n",
              " 'water_body_170.jpg',\n",
              " 'water_body_1256.jpg',\n",
              " 'water_body_2261.jpg',\n",
              " 'water_body_8047.jpg',\n",
              " 'water_body_7372.jpg',\n",
              " 'water_body_7975.jpg',\n",
              " 'water_body_624.jpg',\n",
              " 'water_body_8210.jpg',\n",
              " 'water_body_2567.jpg',\n",
              " 'water_body_1286.jpg',\n",
              " 'water_body_41.jpg',\n",
              " 'water_body_1845.jpg',\n",
              " 'water_body_1045.jpg',\n",
              " 'water_body_7432.jpg',\n",
              " 'water_body_8934.jpg',\n",
              " 'water_body_7738.jpg',\n",
              " 'water_body_7686.jpg',\n",
              " 'water_body_704.jpg',\n",
              " 'water_body_7610.jpg',\n",
              " 'water_body_8470.jpg',\n",
              " 'water_body_1376.jpg',\n",
              " 'water_body_1191.jpg',\n",
              " 'water_body_1798.jpg',\n",
              " 'water_body_7389.jpg',\n",
              " 'water_body_8875.jpg',\n",
              " 'water_body_6382.jpg',\n",
              " 'water_body_2544.jpg',\n",
              " 'water_body_7285.jpg',\n",
              " 'water_body_2464.jpg',\n",
              " 'water_body_1687.jpg',\n",
              " 'water_body_1750.jpg',\n",
              " 'water_body_7920.jpg',\n",
              " 'water_body_7876.jpg',\n",
              " 'water_body_7639.jpg',\n",
              " 'water_body_1605.jpg',\n",
              " 'water_body_7345.jpg',\n",
              " 'water_body_7861.jpg',\n",
              " 'water_body_8633.jpg',\n",
              " 'water_body_8760.jpg',\n",
              " 'water_body_7181.jpg',\n",
              " 'water_body_8648.jpg',\n",
              " 'water_body_8505.jpg',\n",
              " 'water_body_2462.jpg',\n",
              " 'water_body_1097.jpg',\n",
              " 'water_body_967.jpg',\n",
              " 'water_body_7915.jpg',\n",
              " 'water_body_7525.jpg',\n",
              " 'water_body_1245.jpg',\n",
              " 'water_body_8592.jpg',\n",
              " 'water_body_7599.jpg',\n",
              " 'water_body_8054.jpg',\n",
              " 'water_body_723.jpg',\n",
              " 'water_body_1028.jpg',\n",
              " 'water_body_894.jpg',\n",
              " 'water_body_7058.jpg',\n",
              " 'water_body_7250.jpg',\n",
              " 'water_body_8918.jpg',\n",
              " 'water_body_7084.jpg',\n",
              " 'water_body_1670.jpg',\n",
              " 'water_body_8040.jpg',\n",
              " 'water_body_7392.jpg',\n",
              " 'water_body_1735.jpg',\n",
              " 'water_body_14.jpg',\n",
              " 'water_body_7563.jpg',\n",
              " 'water_body_842.jpg',\n",
              " 'water_body_1527.jpg',\n",
              " 'water_body_2259.jpg',\n",
              " 'water_body_1635.jpg',\n",
              " 'water_body_964.jpg',\n",
              " 'water_body_8522.jpg',\n",
              " 'water_body_1501.jpg',\n",
              " 'water_body_7502.jpg',\n",
              " 'water_body_7206.jpg',\n",
              " 'water_body_8684.jpg',\n",
              " 'water_body_1.jpg',\n",
              " 'water_body_8846.jpg',\n",
              " 'water_body_1622.jpg',\n",
              " 'water_body_932.jpg',\n",
              " 'water_body_611.jpg',\n",
              " 'water_body_682.jpg',\n",
              " 'water_body_1498.jpg',\n",
              " 'water_body_7971.jpg',\n",
              " 'water_body_2532.jpg',\n",
              " 'water_body_7590.jpg',\n",
              " 'water_body_8248.jpg',\n",
              " 'water_body_7717.jpg',\n",
              " 'water_body_8379.jpg',\n",
              " 'water_body_8289.jpg',\n",
              " 'water_body_8670.jpg',\n",
              " 'water_body_76.jpg',\n",
              " 'water_body_8848.jpg',\n",
              " 'water_body_7600.jpg',\n",
              " 'water_body_8496.jpg',\n",
              " 'water_body_8796.jpg',\n",
              " 'water_body_781.jpg',\n",
              " 'water_body_2333.jpg',\n",
              " 'water_body_7682.jpg',\n",
              " 'water_body_7279.jpg',\n",
              " 'water_body_7313.jpg',\n",
              " 'water_body_785.jpg',\n",
              " 'water_body_1665.jpg',\n",
              " 'water_body_1176.jpg',\n",
              " 'water_body_1639.jpg',\n",
              " 'water_body_7819.jpg',\n",
              " 'water_body_1593.jpg',\n",
              " 'water_body_7940.jpg',\n",
              " 'water_body_2195.jpg',\n",
              " 'water_body_1528.jpg',\n",
              " 'water_body_2227.jpg',\n",
              " 'water_body_8396.jpg',\n",
              " 'water_body_2190.jpg',\n",
              " 'water_body_7910.jpg',\n",
              " 'water_body_1018.jpg',\n",
              " 'water_body_1654.jpg',\n",
              " 'water_body_7308.jpg',\n",
              " 'water_body_8027.jpg',\n",
              " 'water_body_8173.jpg',\n",
              " 'water_body_8651.jpg',\n",
              " 'water_body_608.jpg',\n",
              " 'water_body_8484.jpg',\n",
              " 'water_body_8423.jpg',\n",
              " 'water_body_8696.jpg',\n",
              " 'water_body_8224.jpg',\n",
              " 'water_body_8192.jpg',\n",
              " 'water_body_7168.jpg',\n",
              " 'water_body_2262.jpg',\n",
              " 'water_body_2538.jpg',\n",
              " 'water_body_7226.jpg',\n",
              " 'water_body_8474.jpg',\n",
              " 'water_body_7743.jpg',\n",
              " 'water_body_1152.jpg',\n",
              " 'water_body_160.jpg',\n",
              " 'water_body_1702.jpg',\n",
              " 'water_body_8550.jpg',\n",
              " 'water_body_8622.jpg',\n",
              " 'water_body_2258.jpg',\n",
              " 'water_body_1323.jpg',\n",
              " 'water_body_7746.jpg',\n",
              " 'water_body_1002.jpg',\n",
              " 'water_body_1439.jpg',\n",
              " 'water_body_78.jpg',\n",
              " 'water_body_8691.jpg',\n",
              " 'water_body_116.jpg',\n",
              " 'water_body_7132.jpg',\n",
              " 'water_body_8343.jpg',\n",
              " 'water_body_8546.jpg',\n",
              " 'water_body_17.jpg',\n",
              " 'water_body_7734.jpg',\n",
              " 'water_body_759.jpg',\n",
              " 'water_body_2174.jpg',\n",
              " 'water_body_1215.jpg',\n",
              " 'water_body_638.jpg',\n",
              " 'water_body_2183.jpg',\n",
              " 'water_body_8171.jpg',\n",
              " 'water_body_7991.jpg',\n",
              " 'water_body_7834.jpg',\n",
              " 'water_body_2525.jpg',\n",
              " 'water_body_733.jpg',\n",
              " 'water_body_8035.jpg',\n",
              " 'water_body_2536.jpg',\n",
              " 'water_body_2226.jpg',\n",
              " 'water_body_7828.jpg',\n",
              " 'water_body_7648.jpg',\n",
              " 'water_body_8009.jpg',\n",
              " 'water_body_7699.jpg',\n",
              " 'water_body_1442.jpg',\n",
              " 'water_body_1817.jpg',\n",
              " 'water_body_7613.jpg',\n",
              " 'water_body_7946.jpg',\n",
              " 'water_body_7213.jpg',\n",
              " 'water_body_1655.jpg',\n",
              " 'water_body_95.jpg',\n",
              " 'water_body_8459.jpg',\n",
              " 'water_body_8489.jpg',\n",
              " 'water_body_8235.jpg',\n",
              " 'water_body_7695.jpg',\n",
              " 'water_body_8358.jpg',\n",
              " 'water_body_7647.jpg',\n",
              " 'water_body_1410.jpg',\n",
              " 'water_body_2197.jpg',\n",
              " 'water_body_2325.jpg',\n",
              " 'water_body_7578.jpg',\n",
              " 'water_body_8059.jpg',\n",
              " 'water_body_8884.jpg',\n",
              " 'water_body_8942.jpg',\n",
              " 'water_body_8432.jpg',\n",
              " 'water_body_7064.jpg',\n",
              " 'water_body_1272.jpg',\n",
              " 'water_body_905.jpg',\n",
              " 'water_body_8551.jpg',\n",
              " 'water_body_8414.jpg',\n",
              " 'water_body_1277.jpg',\n",
              " 'water_body_8400.jpg',\n",
              " 'water_body_7595.jpg',\n",
              " 'water_body_8766.jpg',\n",
              " 'water_body_7424.jpg',\n",
              " 'water_body_1706.jpg',\n",
              " 'water_body_8799.jpg',\n",
              " 'water_body_8877.jpg',\n",
              " 'water_body_1814.jpg',\n",
              " 'water_body_1637.jpg',\n",
              " 'water_body_29.jpg',\n",
              " 'water_body_7446.jpg',\n",
              " 'water_body_2235.jpg',\n",
              " 'water_body_8193.jpg',\n",
              " 'water_body_8347.jpg',\n",
              " 'water_body_7592.jpg',\n",
              " 'water_body_7100.jpg',\n",
              " 'water_body_8351.jpg',\n",
              " 'water_body_876.jpg',\n",
              " 'water_body_8167.jpg',\n",
              " 'water_body_8437.jpg',\n",
              " 'water_body_7611.jpg',\n",
              " 'water_body_654.jpg',\n",
              " 'water_body_1235.jpg',\n",
              " 'water_body_7651.jpg',\n",
              " 'water_body_6399.jpg',\n",
              " 'water_body_2298.jpg',\n",
              " 'water_body_7276.jpg',\n",
              " 'water_body_1064.jpg',\n",
              " 'water_body_1062.jpg',\n",
              " 'water_body_834.jpg',\n",
              " 'water_body_1807.jpg',\n",
              " 'water_body_689.jpg',\n",
              " 'water_body_1207.jpg',\n",
              " 'water_body_1689.jpg',\n",
              " 'water_body_7050.jpg',\n",
              " 'water_body_1310.jpg',\n",
              " 'water_body_7324.jpg',\n",
              " 'water_body_7875.jpg',\n",
              " 'water_body_8767.jpg',\n",
              " 'water_body_7947.jpg',\n",
              " 'water_body_7307.jpg',\n",
              " 'water_body_6413.jpg',\n",
              " 'water_body_7824.jpg',\n",
              " 'water_body_995.jpg',\n",
              " 'water_body_673.jpg',\n",
              " 'water_body_8451.jpg',\n",
              " 'water_body_1370.jpg',\n",
              " 'water_body_891.jpg',\n",
              " 'water_body_7135.jpg',\n",
              " 'water_body_7827.jpg',\n",
              " 'water_body_1449.jpg',\n",
              " 'water_body_7694.jpg',\n",
              " 'water_body_8037.jpg',\n",
              " 'water_body_2430.jpg',\n",
              " 'water_body_7409.jpg',\n",
              " 'water_body_670.jpg',\n",
              " 'water_body_2237.jpg',\n",
              " 'water_body_1170.jpg',\n",
              " 'water_body_1244.jpg',\n",
              " 'water_body_2273.jpg',\n",
              " 'water_body_7051.jpg',\n",
              " 'water_body_7184.jpg',\n",
              " 'water_body_8613.jpg',\n",
              " 'water_body_825.jpg',\n",
              " 'water_body_1699.jpg',\n",
              " 'water_body_767.jpg',\n",
              " 'water_body_7224.jpg',\n",
              " 'water_body_6384.jpg',\n",
              " 'water_body_64.jpg',\n",
              " 'water_body_183.jpg',\n",
              " 'water_body_6376.jpg',\n",
              " 'water_body_7304.jpg',\n",
              " 'water_body_7420.jpg',\n",
              " 'water_body_8815.jpg',\n",
              " 'water_body_8844.jpg',\n",
              " 'water_body_715.jpg',\n",
              " 'water_body_1388.jpg',\n",
              " 'water_body_996.jpg',\n",
              " 'water_body_1433.jpg',\n",
              " 'water_body_1128.jpg',\n",
              " 'water_body_1288.jpg',\n",
              " 'water_body_8667.jpg',\n",
              " 'water_body_1511.jpg',\n",
              " 'water_body_1249.jpg',\n",
              " 'water_body_858.jpg',\n",
              " 'water_body_7428.jpg',\n",
              " 'water_body_7079.jpg',\n",
              " 'water_body_660.jpg',\n",
              " 'water_body_88.jpg',\n",
              " 'water_body_7028.jpg',\n",
              " 'water_body_2311.jpg',\n",
              " 'water_body_7661.jpg',\n",
              " 'water_body_1619.jpg',\n",
              " 'water_body_7418.jpg',\n",
              " 'water_body_8338.jpg',\n",
              " 'water_body_8341.jpg',\n",
              " 'water_body_7202.jpg',\n",
              " 'water_body_8634.jpg',\n",
              " 'water_body_8708.jpg',\n",
              " 'water_body_8185.jpg',\n",
              " 'water_body_1093.jpg',\n",
              " 'water_body_883.jpg',\n",
              " 'water_body_2568.jpg',\n",
              " 'water_body_8542.jpg',\n",
              " 'water_body_2557.jpg',\n",
              " 'water_body_7137.jpg',\n",
              " 'water_body_2255.jpg',\n",
              " 'water_body_699.jpg',\n",
              " 'water_body_7976.jpg',\n",
              " 'water_body_1106.jpg',\n",
              " 'water_body_8102.jpg',\n",
              " 'water_body_2208.jpg',\n",
              " 'water_body_7887.jpg',\n",
              " 'water_body_631.jpg',\n",
              " 'water_body_7146.jpg',\n",
              " 'water_body_8395.jpg',\n",
              " 'water_body_794.jpg',\n",
              " 'water_body_7999.jpg',\n",
              " 'water_body_754.jpg',\n",
              " 'water_body_900.jpg',\n",
              " 'water_body_7955.jpg',\n",
              " 'water_body_7295.jpg',\n",
              " 'water_body_873.jpg',\n",
              " 'water_body_7265.jpg',\n",
              " 'water_body_982.jpg',\n",
              " 'water_body_1260.jpg',\n",
              " 'water_body_7482.jpg',\n",
              " 'water_body_7584.jpg',\n",
              " 'water_body_2334.jpg',\n",
              " 'water_body_7856.jpg',\n",
              " 'water_body_8948.jpg',\n",
              " 'water_body_7071.jpg',\n",
              " 'water_body_7561.jpg',\n",
              " 'water_body_1444.jpg',\n",
              " 'water_body_7831.jpg',\n",
              " 'water_body_165.jpg',\n",
              " 'water_body_7272.jpg',\n",
              " 'water_body_8203.jpg',\n",
              " 'water_body_1477.jpg',\n",
              " 'water_body_2172.jpg',\n",
              " 'water_body_8825.jpg',\n",
              " 'water_body_1618.jpg',\n",
              " 'water_body_2501.jpg',\n",
              " 'water_body_2470.jpg',\n",
              " 'water_body_1236.jpg',\n",
              " 'water_body_8686.jpg',\n",
              " 'water_body_2505.jpg',\n",
              " 'water_body_7215.jpg',\n",
              " 'water_body_6390.jpg',\n",
              " 'water_body_98.jpg',\n",
              " 'water_body_8817.jpg',\n",
              " 'water_body_7330.jpg',\n",
              " 'water_body_8515.jpg',\n",
              " 'water_body_7312.jpg',\n",
              " 'water_body_8692.jpg',\n",
              " 'water_body_1844.jpg',\n",
              " 'water_body_2297.jpg',\n",
              " 'water_body_1015.jpg',\n",
              " 'water_body_2530.jpg',\n",
              " 'water_body_8559.jpg',\n",
              " 'water_body_8491.jpg',\n",
              " 'water_body_8217.jpg',\n",
              " 'water_body_1167.jpg',\n",
              " 'water_body_1804.jpg',\n",
              " 'water_body_659.jpg',\n",
              " 'water_body_1770.jpg',\n",
              " 'water_body_8907.jpg',\n",
              " 'water_body_7579.jpg',\n",
              " 'water_body_8955.jpg',\n",
              " 'water_body_8065.jpg',\n",
              " 'water_body_2539.jpg',\n",
              " 'water_body_7716.jpg',\n",
              " 'water_body_8641.jpg',\n",
              " 'water_body_1099.jpg',\n",
              " 'water_body_8446.jpg',\n",
              " 'water_body_1762.jpg',\n",
              " 'water_body_2546.jpg',\n",
              " 'water_body_7731.jpg',\n",
              " 'water_body_2277.jpg',\n",
              " 'water_body_1382.jpg',\n",
              " 'water_body_653.jpg',\n",
              " 'water_body_7892.jpg',\n",
              " 'water_body_8867.jpg',\n",
              " 'water_body_832.jpg',\n",
              " 'water_body_1088.jpg',\n",
              " 'water_body_6381.jpg',\n",
              " 'water_body_7678.jpg',\n",
              " 'water_body_1112.jpg',\n",
              " 'water_body_1685.jpg',\n",
              " 'water_body_7038.jpg',\n",
              " 'water_body_8883.jpg',\n",
              " 'water_body_8168.jpg',\n",
              " 'water_body_8321.jpg',\n",
              " 'water_body_8394.jpg',\n",
              " 'water_body_1139.jpg',\n",
              " 'water_body_105.jpg',\n",
              " 'water_body_1428.jpg',\n",
              " 'water_body_1420.jpg',\n",
              " 'water_body_918.jpg',\n",
              " 'water_body_10.jpg',\n",
              " 'water_body_6369.jpg',\n",
              " 'water_body_1041.jpg',\n",
              " 'water_body_7926.jpg',\n",
              " 'water_body_7937.jpg',\n",
              " 'water_body_7360.jpg',\n",
              " 'water_body_1632.jpg',\n",
              " 'water_body_953.jpg',\n",
              " 'water_body_7988.jpg',\n",
              " 'water_body_1210.jpg',\n",
              " 'water_body_7148.jpg',\n",
              " 'water_body_7499.jpg',\n",
              " 'water_body_8381.jpg',\n",
              " 'water_body_8333.jpg',\n",
              " 'water_body_8425.jpg',\n",
              " 'water_body_7218.jpg',\n",
              " 'water_body_8393.jpg',\n",
              " 'water_body_7187.jpg',\n",
              " 'water_body_2448.jpg',\n",
              " 'water_body_7042.jpg',\n",
              " 'water_body_7228.jpg',\n",
              " 'water_body_1098.jpg',\n",
              " 'water_body_734.jpg',\n",
              " 'water_body_2224.jpg',\n",
              " 'water_body_1746.jpg',\n",
              " 'water_body_1208.jpg',\n",
              " 'water_body_7216.jpg',\n",
              " 'water_body_1478.jpg',\n",
              " 'water_body_824.jpg',\n",
              " 'water_body_8409.jpg',\n",
              " 'water_body_2513.jpg',\n",
              " 'water_body_1496.jpg',\n",
              " 'water_body_7938.jpg',\n",
              " 'water_body_8402.jpg',\n",
              " 'water_body_1691.jpg',\n",
              " 'water_body_7385.jpg',\n",
              " 'water_body_1293.jpg',\n",
              " 'water_body_8199.jpg',\n",
              " 'water_body_7238.jpg',\n",
              " 'water_body_8215.jpg',\n",
              " 'water_body_8612.jpg',\n",
              " 'water_body_2498.jpg',\n",
              " 'water_body_7300.jpg',\n",
              " 'water_body_1378.jpg',\n",
              " 'water_body_8936.jpg',\n",
              " 'water_body_1726.jpg',\n",
              " 'water_body_2209.jpg',\n",
              " 'water_body_8950.jpg',\n",
              " 'water_body_8075.jpg',\n",
              " 'water_body_1684.jpg',\n",
              " 'water_body_103.jpg',\n",
              " 'water_body_8771.jpg',\n",
              " 'water_body_1156.jpg',\n",
              " 'water_body_1680.jpg',\n",
              " 'water_body_7846.jpg',\n",
              " 'water_body_2188.jpg',\n",
              " 'water_body_8481.jpg',\n",
              " 'water_body_7836.jpg',\n",
              " 'water_body_696.jpg',\n",
              " 'water_body_2374.jpg',\n",
              " 'water_body_1119.jpg',\n",
              " 'water_body_1640.jpg',\n",
              " 'water_body_1242.jpg',\n",
              " 'water_body_8617.jpg',\n",
              " 'water_body_2437.jpg',\n",
              " 'water_body_7954.jpg',\n",
              " 'water_body_8654.jpg',\n",
              " 'water_body_7848.jpg',\n",
              " 'water_body_1227.jpg',\n",
              " 'water_body_1113.jpg',\n",
              " 'water_body_1678.jpg',\n",
              " 'water_body_1575.jpg',\n",
              " 'water_body_8118.jpg',\n",
              " 'water_body_8713.jpg',\n",
              " 'water_body_2387.jpg',\n",
              " 'water_body_7183.jpg',\n",
              " 'water_body_966.jpg',\n",
              " 'water_body_1061.jpg',\n",
              " 'water_body_1426.jpg',\n",
              " 'water_body_2340.jpg',\n",
              " 'water_body_8787.jpg',\n",
              " 'water_body_8045.jpg',\n",
              " 'water_body_1143.jpg',\n",
              " 'water_body_799.jpg',\n",
              " 'water_body_2431.jpg',\n",
              " 'water_body_1213.jpg',\n",
              " 'water_body_8370.jpg',\n",
              " 'water_body_7163.jpg',\n",
              " 'water_body_1246.jpg',\n",
              " 'water_body_7342.jpg',\n",
              " 'water_body_1627.jpg',\n",
              " 'water_body_1651.jpg',\n",
              " 'water_body_1248.jpg',\n",
              " 'water_body_8944.jpg',\n",
              " 'water_body_71.jpg',\n",
              " 'water_body_8053.jpg',\n",
              " 'water_body_8665.jpg',\n",
              " 'water_body_8871.jpg',\n",
              " 'water_body_8621.jpg',\n",
              " 'water_body_1779.jpg',\n",
              " 'water_body_7805.jpg',\n",
              " 'water_body_1580.jpg',\n",
              " 'water_body_6412.jpg',\n",
              " 'water_body_7251.jpg',\n",
              " 'water_body_1443.jpg',\n",
              " 'water_body_773.jpg',\n",
              " 'water_body_8779.jpg',\n",
              " 'water_body_7235.jpg',\n",
              " 'water_body_823.jpg',\n",
              " 'water_body_8941.jpg',\n",
              " 'water_body_7919.jpg',\n",
              " 'water_body_7355.jpg',\n",
              " 'water_body_8498.jpg',\n",
              " 'water_body_8454.jpg',\n",
              " 'water_body_1742.jpg',\n",
              " 'water_body_1466.jpg',\n",
              " 'water_body_2349.jpg',\n",
              " 'water_body_1069.jpg',\n",
              " 'water_body_7439.jpg',\n",
              " 'water_body_24.jpg',\n",
              " 'water_body_8139.jpg',\n",
              " 'water_body_7092.jpg',\n",
              " 'water_body_1076.jpg',\n",
              " 'water_body_1596.jpg',\n",
              " 'water_body_1840.jpg',\n",
              " 'water_body_39.jpg',\n",
              " 'water_body_2429.jpg',\n",
              " 'water_body_1737.jpg',\n",
              " 'water_body_703.jpg',\n",
              " 'water_body_8755.jpg',\n",
              " 'water_body_8891.jpg',\n",
              " 'water_body_8353.jpg',\n",
              " 'water_body_1660.jpg',\n",
              " 'water_body_8026.jpg',\n",
              " 'water_body_8706.jpg',\n",
              " 'water_body_7636.jpg',\n",
              " 'water_body_2278.jpg',\n",
              " 'water_body_1514.jpg',\n",
              " 'water_body_8694.jpg',\n",
              " 'water_body_174.jpg',\n",
              " 'water_body_7702.jpg',\n",
              " 'water_body_615.jpg',\n",
              " 'water_body_7094.jpg',\n",
              " 'water_body_1510.jpg',\n",
              " 'water_body_2468.jpg',\n",
              " 'water_body_1616.jpg',\n",
              " 'water_body_1107.jpg',\n",
              " 'water_body_1479.jpg',\n",
              " 'water_body_2521.jpg',\n",
              " 'water_body_107.jpg',\n",
              " 'water_body_1565.jpg',\n",
              " 'water_body_1453.jpg',\n",
              " 'water_body_7136.jpg',\n",
              " 'water_body_1111.jpg',\n",
              " 'water_body_8214.jpg',\n",
              " 'water_body_8382.jpg',\n",
              " 'water_body_7553.jpg',\n",
              " 'water_body_1760.jpg',\n",
              " 'water_body_7927.jpg',\n",
              " 'water_body_8873.jpg',\n",
              " 'water_body_1148.jpg',\n",
              " 'water_body_7557.jpg',\n",
              " 'water_body_645.jpg',\n",
              " 'water_body_8885.jpg',\n",
              " 'water_body_1290.jpg',\n",
              " 'water_body_2244.jpg',\n",
              " 'water_body_1109.jpg',\n",
              " 'water_body_1623.jpg',\n",
              " 'water_body_8011.jpg',\n",
              " 'water_body_7263.jpg',\n",
              " 'water_body_7537.jpg',\n",
              " 'water_body_8863.jpg',\n",
              " 'water_body_8842.jpg',\n",
              " 'water_body_7246.jpg',\n",
              " 'water_body_90.jpg',\n",
              " 'water_body_2534.jpg',\n",
              " 'water_body_8312.jpg',\n",
              " 'water_body_739.jpg',\n",
              " 'water_body_2522.jpg',\n",
              " 'water_body_2533.jpg',\n",
              " 'water_body_1806.jpg',\n",
              " 'water_body_8427.jpg',\n",
              " 'water_body_7354.jpg',\n",
              " 'water_body_2207.jpg',\n",
              " 'water_body_973.jpg',\n",
              " 'water_body_1583.jpg',\n",
              " 'water_body_8931.jpg',\n",
              " 'water_body_2397.jpg',\n",
              " 'water_body_7388.jpg',\n",
              " 'water_body_1782.jpg',\n",
              " 'water_body_1588.jpg',\n",
              " 'water_body_7423.jpg',\n",
              " 'water_body_1747.jpg',\n",
              " 'water_body_1077.jpg',\n",
              " 'water_body_7981.jpg',\n",
              " 'water_body_7598.jpg',\n",
              " 'water_body_1456.jpg',\n",
              " 'water_body_8049.jpg',\n",
              " 'water_body_1379.jpg',\n",
              " 'water_body_1422.jpg',\n",
              " 'water_body_1515.jpg',\n",
              " 'water_body_8716.jpg',\n",
              " 'water_body_8662.jpg',\n",
              " 'water_body_7519.jpg',\n",
              " 'water_body_1241.jpg',\n",
              " 'water_body_2500.jpg',\n",
              " 'water_body_938.jpg',\n",
              " 'water_body_8331.jpg',\n",
              " 'water_body_8854.jpg',\n",
              " 'water_body_7395.jpg',\n",
              " 'water_body_7587.jpg',\n",
              " 'water_body_8443.jpg',\n",
              " 'water_body_7932.jpg',\n",
              " 'water_body_2373.jpg',\n",
              " 'water_body_1334.jpg',\n",
              " 'water_body_2402.jpg',\n",
              " 'water_body_7191.jpg',\n",
              " 'water_body_182.jpg',\n",
              " 'water_body_2406.jpg',\n",
              " 'water_body_8265.jpg',\n",
              " 'water_body_7748.jpg',\n",
              " 'water_body_8700.jpg',\n",
              " 'water_body_7262.jpg',\n",
              " 'water_body_681.jpg',\n",
              " 'water_body_2403.jpg',\n",
              " 'water_body_7524.jpg',\n",
              " 'water_body_7866.jpg',\n",
              " 'water_body_8572.jpg',\n",
              " 'water_body_7239.jpg',\n",
              " 'water_body_7575.jpg',\n",
              " 'water_body_1223.jpg',\n",
              " 'water_body_8926.jpg',\n",
              " 'water_body_989.jpg',\n",
              " 'water_body_1757.jpg',\n",
              " 'water_body_7485.jpg',\n",
              " 'water_body_2398.jpg',\n",
              " 'water_body_1059.jpg',\n",
              " 'water_body_1847.jpg',\n",
              " 'water_body_8511.jpg',\n",
              " 'water_body_7377.jpg',\n",
              " 'water_body_8649.jpg',\n",
              " 'water_body_7629.jpg',\n",
              " 'water_body_2482.jpg',\n",
              " 'water_body_809.jpg',\n",
              " 'water_body_2233.jpg',\n",
              " 'water_body_7952.jpg',\n",
              " 'water_body_8003.jpg',\n",
              " 'water_body_7965.jpg',\n",
              " 'water_body_7652.jpg',\n",
              " 'water_body_8810.jpg',\n",
              " 'water_body_8680.jpg',\n",
              " 'water_body_831.jpg',\n",
              " 'water_body_1149.jpg',\n",
              " 'water_body_1609.jpg',\n",
              " 'water_body_7961.jpg',\n",
              " 'water_body_8811.jpg',\n",
              " 'water_body_7173.jpg',\n",
              " 'water_body_619.jpg',\n",
              " 'water_body_1465.jpg',\n",
              " 'water_body_7758.jpg',\n",
              " 'water_body_7966.jpg',\n",
              " 'water_body_7757.jpg',\n",
              " 'water_body_7871.jpg',\n",
              " 'water_body_8563.jpg',\n",
              " 'water_body_8480.jpg',\n",
              " 'water_body_7627.jpg',\n",
              " 'water_body_2251.jpg',\n",
              " 'water_body_7763.jpg',\n",
              " 'water_body_925.jpg',\n",
              " 'water_body_1424.jpg',\n",
              " 'water_body_8532.jpg',\n",
              " 'water_body_8693.jpg',\n",
              " 'water_body_8890.jpg',\n",
              " 'water_body_8371.jpg',\n",
              " 'water_body_2445.jpg',\n",
              " 'water_body_7190.jpg',\n",
              " 'water_body_8723.jpg',\n",
              " 'water_body_8019.jpg',\n",
              " 'water_body_8307.jpg',\n",
              " 'water_body_2290.jpg',\n",
              " 'water_body_8431.jpg',\n",
              " 'water_body_8773.jpg',\n",
              " 'water_body_7142.jpg',\n",
              " 'water_body_7762.jpg',\n",
              " 'water_body_7608.jpg',\n",
              " 'water_body_7822.jpg',\n",
              " 'water_body_7992.jpg',\n",
              " 'water_body_7793.jpg',\n",
              " 'water_body_7990.jpg',\n",
              " 'water_body_7708.jpg',\n",
              " 'water_body_1367.jpg',\n",
              " 'water_body_7565.jpg',\n",
              " 'water_body_1373.jpg',\n",
              " 'water_body_1703.jpg',\n",
              " 'water_body_7809.jpg',\n",
              " 'water_body_7624.jpg',\n",
              " 'water_body_8401.jpg',\n",
              " 'water_body_7209.jpg',\n",
              " 'water_body_8198.jpg',\n",
              " 'water_body_7489.jpg',\n",
              " 'water_body_1475.jpg',\n",
              " 'water_body_1425.jpg',\n",
              " 'water_body_7140.jpg',\n",
              " 'water_body_7086.jpg',\n",
              " 'water_body_792.jpg',\n",
              " 'water_body_976.jpg',\n",
              " 'water_body_802.jpg',\n",
              " 'water_body_1695.jpg',\n",
              " 'water_body_1827.jpg',\n",
              " 'water_body_8893.jpg',\n",
              " 'water_body_710.jpg',\n",
              " 'water_body_7604.jpg',\n",
              " 'water_body_7275.jpg',\n",
              " 'water_body_1594.jpg',\n",
              " 'water_body_2423.jpg',\n",
              " 'water_body_2293.jpg',\n",
              " 'water_body_1819.jpg',\n",
              " 'water_body_2372.jpg',\n",
              " 'water_body_7582.jpg',\n",
              " 'water_body_717.jpg',\n",
              " 'water_body_8251.jpg',\n",
              " 'water_body_7077.jpg',\n",
              " 'water_body_1659.jpg',\n",
              " 'water_body_7356.jpg',\n",
              " 'water_body_7601.jpg',\n",
              " 'water_body_2170.jpg',\n",
              " 'water_body_7434.jpg',\n",
              " 'water_body_7327.jpg',\n",
              " 'water_body_7237.jpg',\n",
              " 'water_body_8625.jpg',\n",
              " 'water_body_1441.jpg',\n",
              " 'water_body_8595.jpg',\n",
              " 'water_body_7737.jpg',\n",
              " 'water_body_1711.jpg',\n",
              " 'water_body_8076.jpg',\n",
              " 'water_body_1662.jpg',\n",
              " 'water_body_8405.jpg',\n",
              " 'water_body_621.jpg',\n",
              " 'water_body_1270.jpg',\n",
              " 'water_body_2247.jpg',\n",
              " 'water_body_636.jpg',\n",
              " 'water_body_96.jpg',\n",
              " 'water_body_1751.jpg',\n",
              " 'water_body_8731.jpg',\n",
              " 'water_body_1153.jpg',\n",
              " 'water_body_7349.jpg',\n",
              " 'water_body_1228.jpg',\n",
              " 'water_body_7052.jpg',\n",
              " 'water_body_7156.jpg',\n",
              " 'water_body_8182.jpg',\n",
              " 'water_body_7364.jpg',\n",
              " 'water_body_833.jpg',\n",
              " 'water_body_7921.jpg',\n",
              " 'water_body_854.jpg',\n",
              " 'water_body_8632.jpg',\n",
              " 'water_body_7676.jpg',\n",
              " 'water_body_8812.jpg',\n",
              " 'water_body_847.jpg',\n",
              " 'water_body_684.jpg',\n",
              " 'water_body_808.jpg',\n",
              " 'water_body_7641.jpg',\n",
              " 'water_body_806.jpg',\n",
              " 'water_body_8473.jpg',\n",
              " 'water_body_7267.jpg',\n",
              " 'water_body_8587.jpg',\n",
              " 'water_body_2504.jpg',\n",
              " 'water_body_8404.jpg',\n",
              " 'water_body_8888.jpg',\n",
              " 'water_body_2435.jpg',\n",
              " 'water_body_1057.jpg',\n",
              " 'water_body_7732.jpg',\n",
              " 'water_body_7692.jpg',\n",
              " 'water_body_7727.jpg',\n",
              " 'water_body_7964.jpg',\n",
              " 'water_body_880.jpg',\n",
              " 'water_body_8517.jpg',\n",
              " 'water_body_1361.jpg',\n",
              " 'water_body_1274.jpg',\n",
              " 'water_body_7664.jpg',\n",
              " 'water_body_1506.jpg',\n",
              " 'water_body_7427.jpg',\n",
              " 'water_body_7882.jpg',\n",
              " 'water_body_8348.jpg',\n",
              " 'water_body_8679.jpg',\n",
              " 'water_body_1692.jpg',\n",
              " 'water_body_8434.jpg',\n",
              " 'water_body_843.jpg',\n",
              " 'water_body_8737.jpg',\n",
              " 'water_body_7247.jpg',\n",
              " 'water_body_7334.jpg',\n",
              " 'water_body_7783.jpg',\n",
              " 'water_body_8418.jpg',\n",
              " 'water_body_5.jpg',\n",
              " 'water_body_2270.jpg',\n",
              " 'water_body_8258.jpg',\n",
              " 'water_body_7642.jpg',\n",
              " 'water_body_1560.jpg',\n",
              " 'water_body_7597.jpg',\n",
              " 'water_body_1743.jpg',\n",
              " 'water_body_233.jpg',\n",
              " 'water_body_6371.jpg',\n",
              " 'water_body_1459.jpg',\n",
              " 'water_body_8640.jpg',\n",
              " 'water_body_1714.jpg',\n",
              " 'water_body_7063.jpg',\n",
              " 'water_body_1572.jpg',\n",
              " 'water_body_8927.jpg',\n",
              " 'water_body_7180.jpg',\n",
              " 'water_body_7503.jpg',\n",
              " 'water_body_8772.jpg',\n",
              " 'water_body_698.jpg',\n",
              " 'water_body_1216.jpg',\n",
              " 'water_body_7766.jpg',\n",
              " 'water_body_8657.jpg',\n",
              " 'water_body_2540.jpg',\n",
              " 'water_body_2450.jpg',\n",
              " 'water_body_7701.jpg',\n",
              " 'water_body_7797.jpg',\n",
              " 'water_body_7646.jpg',\n",
              " 'water_body_7153.jpg',\n",
              " 'water_body_1634.jpg',\n",
              " 'water_body_642.jpg',\n",
              " 'water_body_7912.jpg',\n",
              " 'water_body_768.jpg',\n",
              " 'water_body_844.jpg',\n",
              " 'water_body_810.jpg',\n",
              " 'water_body_8683.jpg',\n",
              " 'water_body_1437.jpg',\n",
              " 'water_body_4.jpg',\n",
              " 'water_body_8540.jpg',\n",
              " 'water_body_2527.jpg',\n",
              " 'water_body_7416.jpg',\n",
              " 'water_body_782.jpg',\n",
              " 'water_body_1666.jpg',\n",
              " 'water_body_2488.jpg',\n",
              " 'water_body_7426.jpg',\n",
              " 'water_body_721.jpg',\n",
              " 'water_body_1525.jpg',\n",
              " 'water_body_158.jpg',\n",
              " 'water_body_8415.jpg',\n",
              " 'water_body_1255.jpg',\n",
              " 'water_body_2550.jpg',\n",
              " 'water_body_8399.jpg',\n",
              " 'water_body_917.jpg',\n",
              " 'water_body_7145.jpg',\n",
              " 'water_body_8316.jpg',\n",
              " 'water_body_8103.jpg',\n",
              " 'water_body_7309.jpg',\n",
              " 'water_body_1603.jpg',\n",
              " 'water_body_7061.jpg',\n",
              " 'water_body_2221.jpg',\n",
              " 'water_body_1134.jpg',\n",
              " 'water_body_1263.jpg',\n",
              " 'water_body_7739.jpg',\n",
              " 'water_body_7379.jpg',\n",
              " 'water_body_1351.jpg',\n",
              " 'water_body_1551.jpg',\n",
              " 'water_body_1454.jpg',\n",
              " 'water_body_1418.jpg',\n",
              " 'water_body_1701.jpg',\n",
              " 'water_body_7314.jpg',\n",
              " 'water_body_7270.jpg',\n",
              " 'water_body_8763.jpg',\n",
              " 'water_body_8095.jpg',\n",
              " 'water_body_8458.jpg',\n",
              " 'water_body_8098.jpg',\n",
              " 'water_body_1054.jpg',\n",
              " 'water_body_7306.jpg',\n",
              " 'water_body_7298.jpg',\n",
              " 'water_body_8828.jpg',\n",
              " 'water_body_8856.jpg',\n",
              " 'water_body_7684.jpg',\n",
              " 'water_body_7935.jpg',\n",
              " 'water_body_701.jpg',\n",
              " 'water_body_8703.jpg',\n",
              " 'water_body_896.jpg',\n",
              " 'water_body_1360.jpg',\n",
              " 'water_body_1763.jpg',\n",
              " 'water_body_7230.jpg',\n",
              " 'water_body_7175.jpg',\n",
              " 'water_body_1006.jpg',\n",
              " 'water_body_8512.jpg',\n",
              " 'water_body_797.jpg',\n",
              " 'water_body_7068.jpg',\n",
              " 'water_body_7236.jpg',\n",
              " 'water_body_8089.jpg',\n",
              " 'water_body_8232.jpg',\n",
              " 'water_body_8005.jpg',\n",
              " 'water_body_8466.jpg',\n",
              " 'water_body_1282.jpg',\n",
              " 'water_body_1491.jpg',\n",
              " 'water_body_1461.jpg',\n",
              " 'water_body_7366.jpg',\n",
              " 'water_body_1336.jpg',\n",
              " 'water_body_694.jpg',\n",
              " 'water_body_725.jpg',\n",
              " 'water_body_8526.jpg',\n",
              " 'water_body_7.jpg',\n",
              " 'water_body_13.jpg',\n",
              " 'water_body_2210.jpg',\n",
              " 'water_body_2304.jpg',\n",
              " 'water_body_1707.jpg',\n",
              " 'water_body_906.jpg',\n",
              " 'water_body_7549.jpg',\n",
              " 'water_body_656.jpg',\n",
              " 'water_body_8809.jpg',\n",
              " 'water_body_2214.jpg',\n",
              " 'water_body_7953.jpg',\n",
              " 'water_body_7583.jpg',\n",
              " 'water_body_7178.jpg',\n",
              " 'water_body_2198.jpg',\n",
              " 'water_body_1124.jpg',\n",
              " 'water_body_8717.jpg',\n",
              " 'water_body_737.jpg',\n",
              " 'water_body_1800.jpg',\n",
              " 'water_body_7614.jpg',\n",
              " 'water_body_7728.jpg',\n",
              " 'water_body_81.jpg',\n",
              " 'water_body_7796.jpg',\n",
              " 'water_body_1597.jpg',\n",
              " 'water_body_784.jpg',\n",
              " 'water_body_8940.jpg',\n",
              " 'water_body_7855.jpg',\n",
              " 'water_body_8765.jpg',\n",
              " 'water_body_2553.jpg',\n",
              " 'water_body_1250.jpg',\n",
              " 'water_body_7363.jpg',\n",
              " 'water_body_2264.jpg',\n",
              " 'water_body_1775.jpg',\n",
              " 'water_body_7380.jpg',\n",
              " 'water_body_708.jpg',\n",
              " 'water_body_1315.jpg',\n",
              " 'water_body_7922.jpg',\n",
              " 'water_body_625.jpg',\n",
              " 'water_body_1839.jpg',\n",
              " 'water_body_6368.jpg',\n",
              " 'water_body_8494.jpg',\n",
              " 'water_body_848.jpg',\n",
              " 'water_body_187.jpg',\n",
              " 'water_body_2495.jpg',\n",
              " 'water_body_43.jpg',\n",
              " 'water_body_8024.jpg',\n",
              " 'water_body_1108.jpg',\n",
              " 'water_body_1811.jpg',\n",
              " 'water_body_8004.jpg',\n",
              " 'water_body_7917.jpg',\n",
              " 'water_body_2295.jpg',\n",
              " 'water_body_7288.jpg',\n",
              " 'water_body_2364.jpg',\n",
              " 'water_body_6378.jpg',\n",
              " 'water_body_851.jpg',\n",
              " 'water_body_8635.jpg',\n",
              " 'water_body_162.jpg',\n",
              " 'water_body_7916.jpg',\n",
              " 'water_body_8864.jpg',\n",
              " 'water_body_974.jpg',\n",
              " 'water_body_7714.jpg',\n",
              " 'water_body_1324.jpg',\n",
              " 'water_body_8305.jpg',\n",
              " 'water_body_8841.jpg',\n",
              " 'water_body_798.jpg',\n",
              " 'water_body_605.jpg',\n",
              " 'water_body_1499.jpg',\n",
              " 'water_body_1417.jpg',\n",
              " 'water_body_7870.jpg',\n",
              " 'water_body_2353.jpg',\n",
              " 'water_body_8735.jpg',\n",
              " 'water_body_7398.jpg',\n",
              " 'water_body_8816.jpg',\n",
              " 'water_body_8413.jpg',\n",
              " 'water_body_1598.jpg',\n",
              " 'water_body_8493.jpg',\n",
              " 'water_body_8646.jpg',\n",
              " 'water_body_7098.jpg',\n",
              " 'water_body_7197.jpg',\n",
              " 'water_body_2520.jpg',\n",
              " 'water_body_2427.jpg',\n",
              " 'water_body_8509.jpg',\n",
              " ...]"
            ]
          },
          "metadata": {},
          "execution_count": 31
        }
      ]
    },
    {
      "cell_type": "code",
      "source": [
        "tf.config.run_functions_eagerly(True)"
      ],
      "metadata": {
        "execution": {
          "iopub.status.busy": "2024-05-24T08:59:58.252891Z",
          "iopub.execute_input": "2024-05-24T08:59:58.253877Z",
          "iopub.status.idle": "2024-05-24T08:59:58.258293Z",
          "shell.execute_reply.started": "2024-05-24T08:59:58.253838Z",
          "shell.execute_reply": "2024-05-24T08:59:58.2572Z"
        },
        "trusted": true,
        "id": "dSg9ST3eCZ58"
      },
      "execution_count": 5,
      "outputs": []
    },
    {
      "cell_type": "code",
      "source": [
        "image_filename = '/root/.cache/kagglehub/datasets/sovitrath/water-bodies-segmentation-dataset-with-split/versions/1/Water_Bodies_Dataset_Split/train_images/*.jpg'\n",
        "masks_filename = '/root/.cache/kagglehub/datasets/sovitrath/water-bodies-segmentation-dataset-with-split/versions/1/Water_Bodies_Dataset_Split/train_masks/*.jpg'"
      ],
      "metadata": {
        "execution": {
          "iopub.status.busy": "2024-05-24T08:59:58.259778Z",
          "iopub.execute_input": "2024-05-24T08:59:58.260124Z",
          "iopub.status.idle": "2024-05-24T08:59:58.283729Z",
          "shell.execute_reply.started": "2024-05-24T08:59:58.26009Z",
          "shell.execute_reply": "2024-05-24T08:59:58.282716Z"
        },
        "trusted": true,
        "id": "LbC-gL3BCZ59"
      },
      "execution_count": 6,
      "outputs": []
    },
    {
      "cell_type": "code",
      "source": [
        "img_filename_list = []\n",
        "for files in sorted(glob.glob(image_filename)):\n",
        "    img_filename_list.append(files)\n",
        "\n",
        "mask_filename_list = []\n",
        "for files in sorted(glob.glob(masks_filename)):\n",
        "    mask_filename_list.append(files)\n"
      ],
      "metadata": {
        "execution": {
          "iopub.status.busy": "2024-05-24T08:59:58.28608Z",
          "iopub.execute_input": "2024-05-24T08:59:58.286675Z",
          "iopub.status.idle": "2024-05-24T09:00:05.610693Z",
          "shell.execute_reply.started": "2024-05-24T08:59:58.286642Z",
          "shell.execute_reply": "2024-05-24T09:00:05.609441Z"
        },
        "trusted": true,
        "id": "-qYFDsihCZ59"
      },
      "execution_count": 7,
      "outputs": []
    },
    {
      "cell_type": "code",
      "source": [
        "print(len(img_filename_list))\n",
        "print(len(mask_filename_list))"
      ],
      "metadata": {
        "execution": {
          "iopub.status.busy": "2024-05-24T09:00:05.612068Z",
          "iopub.execute_input": "2024-05-24T09:00:05.61241Z",
          "iopub.status.idle": "2024-05-24T09:00:05.617601Z",
          "shell.execute_reply.started": "2024-05-24T09:00:05.61238Z",
          "shell.execute_reply": "2024-05-24T09:00:05.616563Z"
        },
        "trusted": true,
        "id": "G5ihSsOiCZ59",
        "outputId": "b50dfab1-064c-4e5d-ba8f-ab1eb1ed5f2e",
        "colab": {
          "base_uri": "https://localhost:8080/"
        }
      },
      "execution_count": 8,
      "outputs": [
        {
          "output_type": "stream",
          "name": "stdout",
          "text": [
            "2683\n",
            "2683\n"
          ]
        }
      ]
    },
    {
      "cell_type": "code",
      "source": [
        "train_img_filename_list = img_filename_list[:1000]\n",
        "train_mask_filename_list = mask_filename_list[:1000]"
      ],
      "metadata": {
        "execution": {
          "iopub.status.busy": "2024-05-24T09:00:05.61882Z",
          "iopub.execute_input": "2024-05-24T09:00:05.61929Z",
          "iopub.status.idle": "2024-05-24T09:00:05.638346Z",
          "shell.execute_reply.started": "2024-05-24T09:00:05.619261Z",
          "shell.execute_reply": "2024-05-24T09:00:05.637628Z"
        },
        "trusted": true,
        "id": "F2yoJDpdCZ59"
      },
      "execution_count": 9,
      "outputs": []
    },
    {
      "cell_type": "code",
      "source": [
        "test_img_filename_list = img_filename_list[1500:2000]\n",
        "test_mask_filename_list = mask_filename_list[1500:2000]"
      ],
      "metadata": {
        "execution": {
          "iopub.status.busy": "2024-05-24T09:00:05.639464Z",
          "iopub.execute_input": "2024-05-24T09:00:05.639816Z",
          "iopub.status.idle": "2024-05-24T09:00:05.649308Z",
          "shell.execute_reply.started": "2024-05-24T09:00:05.639782Z",
          "shell.execute_reply": "2024-05-24T09:00:05.648497Z"
        },
        "trusted": true,
        "id": "uzcvxt0fCZ59"
      },
      "execution_count": 10,
      "outputs": []
    },
    {
      "cell_type": "code",
      "source": [
        "dataset = tf.data.Dataset.from_tensor_slices((train_img_filename_list, train_mask_filename_list))"
      ],
      "metadata": {
        "execution": {
          "iopub.status.busy": "2024-05-24T09:00:05.650296Z",
          "iopub.execute_input": "2024-05-24T09:00:05.650544Z",
          "iopub.status.idle": "2024-05-24T09:00:06.296333Z",
          "shell.execute_reply.started": "2024-05-24T09:00:05.650522Z",
          "shell.execute_reply": "2024-05-24T09:00:06.295505Z"
        },
        "trusted": true,
        "id": "Umqzt0aNCZ5-"
      },
      "execution_count": 11,
      "outputs": []
    },
    {
      "cell_type": "code",
      "source": [
        "def decode_images(img_filename, mask_filename):\n",
        "    image_string = tf.io.read_file(img_filename)\n",
        "    mask_string = tf.io.read_file(mask_filename)\n",
        "\n",
        "    #Don't use tf.image.decode_image, or the output shape will be undefined\n",
        "    image = tf.image.decode_jpeg(image_string, channels=3)\n",
        "    mask = tf.image.decode_jpeg(mask_string, channels=1)\n",
        "\n",
        "    #This will convert to float values in [0, 1]\n",
        "    image = tf.image.convert_image_dtype(image, tf.float32)\n",
        "    mask = tf.image.convert_image_dtype(mask, tf.float32)\n",
        "\n",
        "    image = tf.image.resize(image, (64, 64))\n",
        "    mask = tf.image.resize(mask, (64, 64))\n",
        "\n",
        "    return image, mask"
      ],
      "metadata": {
        "execution": {
          "iopub.status.busy": "2024-05-24T09:00:06.297409Z",
          "iopub.execute_input": "2024-05-24T09:00:06.297666Z",
          "iopub.status.idle": "2024-05-24T09:00:06.305081Z",
          "shell.execute_reply.started": "2024-05-24T09:00:06.297643Z",
          "shell.execute_reply": "2024-05-24T09:00:06.304203Z"
        },
        "trusted": true,
        "id": "IYx4EnJBCZ5-"
      },
      "execution_count": 12,
      "outputs": []
    },
    {
      "cell_type": "code",
      "source": [
        "dataset = dataset.map(decode_images)\n",
        "dataset = dataset.batch(16)\n",
        "dataset = dataset.prefetch(1)"
      ],
      "metadata": {
        "execution": {
          "iopub.status.busy": "2024-05-24T09:00:06.308496Z",
          "iopub.execute_input": "2024-05-24T09:00:06.308823Z",
          "iopub.status.idle": "2024-05-24T09:00:06.444247Z",
          "shell.execute_reply.started": "2024-05-24T09:00:06.308799Z",
          "shell.execute_reply": "2024-05-24T09:00:06.443295Z"
        },
        "trusted": true,
        "id": "XCTpGxYACZ5-",
        "outputId": "06fc050a-c363-453f-ebcb-b527b51b8673",
        "colab": {
          "base_uri": "https://localhost:8080/"
        }
      },
      "execution_count": 13,
      "outputs": [
        {
          "output_type": "stream",
          "name": "stderr",
          "text": [
            "/usr/local/lib/python3.10/dist-packages/tensorflow/python/data/ops/structured_function.py:258: UserWarning: Even though the `tf.config.experimental_run_functions_eagerly` option is set, this option does not apply to tf.data functions. To force eager execution of tf.data functions, please use `tf.data.experimental.enable_debug_mode()`.\n",
            "  warnings.warn(\n"
          ]
        }
      ]
    },
    {
      "cell_type": "code",
      "source": [
        "dataset"
      ],
      "metadata": {
        "execution": {
          "iopub.status.busy": "2024-05-24T09:00:06.445529Z",
          "iopub.execute_input": "2024-05-24T09:00:06.445819Z",
          "iopub.status.idle": "2024-05-24T09:00:06.452769Z",
          "shell.execute_reply.started": "2024-05-24T09:00:06.445793Z",
          "shell.execute_reply": "2024-05-24T09:00:06.451892Z"
        },
        "trusted": true,
        "id": "iT4_gw0wCZ5-",
        "outputId": "5d40fabe-3343-4678-8b49-3cac6c247f42",
        "colab": {
          "base_uri": "https://localhost:8080/"
        }
      },
      "execution_count": 14,
      "outputs": [
        {
          "output_type": "execute_result",
          "data": {
            "text/plain": [
              "<_PrefetchDataset element_spec=(TensorSpec(shape=(None, 64, 64, 3), dtype=tf.float32, name=None), TensorSpec(shape=(None, 64, 64, 1), dtype=tf.float32, name=None))>"
            ]
          },
          "metadata": {},
          "execution_count": 14
        }
      ]
    },
    {
      "cell_type": "code",
      "source": [
        "im, m = next(iter(dataset))"
      ],
      "metadata": {
        "execution": {
          "iopub.status.busy": "2024-05-24T09:00:06.45396Z",
          "iopub.execute_input": "2024-05-24T09:00:06.454282Z",
          "iopub.status.idle": "2024-05-24T09:00:06.654727Z",
          "shell.execute_reply.started": "2024-05-24T09:00:06.454255Z",
          "shell.execute_reply": "2024-05-24T09:00:06.653715Z"
        },
        "trusted": true,
        "id": "bqxzMgRICZ5_"
      },
      "execution_count": 15,
      "outputs": []
    },
    {
      "cell_type": "code",
      "source": [
        "plt.imshow(m[5])"
      ],
      "metadata": {
        "execution": {
          "iopub.status.busy": "2024-05-24T09:00:06.656051Z",
          "iopub.execute_input": "2024-05-24T09:00:06.656371Z",
          "iopub.status.idle": "2024-05-24T09:00:06.974757Z",
          "shell.execute_reply.started": "2024-05-24T09:00:06.656343Z",
          "shell.execute_reply": "2024-05-24T09:00:06.973786Z"
        },
        "trusted": true,
        "id": "mu6gYM9YCZ5_",
        "outputId": "be9cd06c-803b-4bb2-d63e-3730803498c7",
        "colab": {
          "base_uri": "https://localhost:8080/",
          "height": 448
        }
      },
      "execution_count": 16,
      "outputs": [
        {
          "output_type": "execute_result",
          "data": {
            "text/plain": [
              "<matplotlib.image.AxesImage at 0x7f7493398af0>"
            ]
          },
          "metadata": {},
          "execution_count": 16
        },
        {
          "output_type": "display_data",
          "data": {
            "text/plain": [
              "<Figure size 640x480 with 1 Axes>"
            ],
            "image/png": "[encoded data removed]"
          },
          "metadata": {}
        }
      ]
    },
    {
      "cell_type": "markdown",
      "source": [
        "# UNET MODEL"
      ],
      "metadata": {
        "id": "S4wWSrnCCZ5_"
      }
    },
    {
      "cell_type": "code",
      "source": [
        "from keras.models import Model\n",
        "from keras.layers import Input, Conv2D, MaxPooling2D, UpSampling2D, concatenate, Conv2DTranspose, BatchNormalization, Dropout, Lambda\n",
        "\n",
        "# U-Net model using functions\n",
        "def conv_block(input, num_filters):\n",
        "  x = Conv2D(num_filters, 3, padding = 'same', activation = 'relu')(input)\n",
        "  x = BatchNormalization()(x)\n",
        "\n",
        "  x = Conv2D(num_filters, 3, padding = 'same', activation = 'relu')(x)\n",
        "  x = BatchNormalization()(x)\n",
        "  return x\n",
        "\n",
        "def encoder_block(input, num_filters):\n",
        "  x = conv_block(input, num_filters)\n",
        "  p = MaxPooling2D((2, 2))(x)\n",
        "  return x, p\n",
        "\n",
        "def decoder_block(input, skip_features, num_filters):\n",
        "  x = Conv2DTranspose(num_filters, (2, 2), strides = 2, padding = 'same')(input)\n",
        "  x = concatenate([x, skip_features])\n",
        "  x = conv_block(x, num_filters)\n",
        "  return x"
      ],
      "metadata": {
        "execution": {
          "iopub.status.busy": "2024-05-24T09:00:06.975778Z",
          "iopub.execute_input": "2024-05-24T09:00:06.976044Z",
          "iopub.status.idle": "2024-05-24T09:00:06.985046Z",
          "shell.execute_reply.started": "2024-05-24T09:00:06.97602Z",
          "shell.execute_reply": "2024-05-24T09:00:06.984222Z"
        },
        "trusted": true,
        "id": "HkGb7SVfCZ5_"
      },
      "execution_count": 17,
      "outputs": []
    },
    {
      "cell_type": "code",
      "source": [
        "inputs = Input((64, 64, 3))\n",
        "s1, p1 = encoder_block(inputs, 64)\n",
        "s2, p2 = encoder_block(p1, 128)\n",
        "s3, p3 = encoder_block(p2, 256)\n",
        "s4, p4 = encoder_block(p3, 512)\n",
        "\n",
        "b1 = conv_block(p4, 1024)\n",
        "\n",
        "d1 = decoder_block(b1, s4, 512)\n",
        "d2 = decoder_block(d1, s3, 256)\n",
        "d3 = decoder_block(d2, s2, 128)\n",
        "d4 = decoder_block(d3, s1, 64)\n",
        "\n",
        "outputs = Conv2D(1, 1, padding = 'same', activation = 'sigmoid')(d4)\n",
        "model = Model(inputs=[inputs], outputs=[outputs])\n",
        "model.summary()"
      ],
      "metadata": {
        "execution": {
          "iopub.status.busy": "2024-05-24T09:00:06.986276Z",
          "iopub.execute_input": "2024-05-24T09:00:06.986558Z",
          "iopub.status.idle": "2024-05-24T09:00:07.43289Z",
          "shell.execute_reply.started": "2024-05-24T09:00:06.986535Z",
          "shell.execute_reply": "2024-05-24T09:00:07.431967Z"
        },
        "trusted": true,
        "id": "JjZ7-aJNCZ5_",
        "outputId": "ab6dc102-58b4-48e5-edab-dd136af9d33f",
        "colab": {
          "base_uri": "https://localhost:8080/",
          "height": 1000
        }
      },
      "execution_count": 22,
      "outputs": [
        {
          "output_type": "display_data",
          "data": {
            "text/plain": [
              "\u001b[1mModel: \"functional_1\"\u001b[0m\n"
            ],
            "text/html": [
              "<pre style=\"white-space:pre;overflow-x:auto;line-height:normal;font-family:Menlo,'DejaVu Sans Mono',consolas,'Courier New',monospace\"><span style=\"font-weight: bold\">Model: \"functional_1\"</span>\n",
              "</pre>\n"
            ]
          },
          "metadata": {}
        },
        {
          "output_type": "display_data",
          "data": {
            "text/plain": [
              "┏━━━━━━━━━━━━━━━━━━━━━━━━━━━┳━━━━━━━━━━━━━━━━━━━━━━━━┳━━━━━━━━━━━━━━━━┳━━━━━━━━━━━━━━━━━━━━━━━━┓\n",
              "┃\u001b[1m \u001b[0m\u001b[1mLayer (type)             \u001b[0m\u001b[1m \u001b[0m┃\u001b[1m \u001b[0m\u001b[1mOutput Shape          \u001b[0m\u001b[1m \u001b[0m┃\u001b[1m \u001b[0m\u001b[1m       Param #\u001b[0m\u001b[1m \u001b[0m┃\u001b[1m \u001b[0m\u001b[1mConnected to          \u001b[0m\u001b[1m \u001b[0m┃\n",
              "┡━━━━━━━━━━━━━━━━━━━━━━━━━━━╇━━━━━━━━━━━━━━━━━━━━━━━━╇━━━━━━━━━━━━━━━━╇━━━━━━━━━━━━━━━━━━━━━━━━┩\n",
              "│ input_layer_1             │ (\u001b[38;5;45mNone\u001b[0m, \u001b[38;5;34m64\u001b[0m, \u001b[38;5;34m64\u001b[0m, \u001b[38;5;34m3\u001b[0m)      │              \u001b[38;5;34m0\u001b[0m │ -                      │\n",
              "│ (\u001b[38;5;33mInputLayer\u001b[0m)              │                        │                │                        │\n",
              "├───────────────────────────┼────────────────────────┼────────────────┼────────────────────────┤\n",
              "│ conv2d_19 (\u001b[38;5;33mConv2D\u001b[0m)        │ (\u001b[38;5;45mNone\u001b[0m, \u001b[38;5;34m64\u001b[0m, \u001b[38;5;34m64\u001b[0m, \u001b[38;5;34m64\u001b[0m)     │          \u001b[38;5;34m1,792\u001b[0m │ input_layer_1[\u001b[38;5;34m0\u001b[0m][\u001b[38;5;34m0\u001b[0m]    │\n",
              "├───────────────────────────┼────────────────────────┼────────────────┼────────────────────────┤\n",
              "│ batch_normalization_18    │ (\u001b[38;5;45mNone\u001b[0m, \u001b[38;5;34m64\u001b[0m, \u001b[38;5;34m64\u001b[0m, \u001b[38;5;34m64\u001b[0m)     │            \u001b[38;5;34m256\u001b[0m │ conv2d_19[\u001b[38;5;34m0\u001b[0m][\u001b[38;5;34m0\u001b[0m]        │\n",
              "│ (\u001b[38;5;33mBatchNormalization\u001b[0m)      │                        │                │                        │\n",
              "├───────────────────────────┼────────────────────────┼────────────────┼────────────────────────┤\n",
              "│ conv2d_20 (\u001b[38;5;33mConv2D\u001b[0m)        │ (\u001b[38;5;45mNone\u001b[0m, \u001b[38;5;34m64\u001b[0m, \u001b[38;5;34m64\u001b[0m, \u001b[38;5;34m64\u001b[0m)     │         \u001b[38;5;34m36,928\u001b[0m │ batch_normalization_1… │\n",
              "├───────────────────────────┼────────────────────────┼────────────────┼────────────────────────┤\n",
              "│ batch_normalization_19    │ (\u001b[38;5;45mNone\u001b[0m, \u001b[38;5;34m64\u001b[0m, \u001b[38;5;34m64\u001b[0m, \u001b[38;5;34m64\u001b[0m)     │            \u001b[38;5;34m256\u001b[0m │ conv2d_20[\u001b[38;5;34m0\u001b[0m][\u001b[38;5;34m0\u001b[0m]        │\n",
              "│ (\u001b[38;5;33mBatchNormalization\u001b[0m)      │                        │                │                        │\n",
              "├───────────────────────────┼────────────────────────┼────────────────┼────────────────────────┤\n",
              "│ max_pooling2d_4           │ (\u001b[38;5;45mNone\u001b[0m, \u001b[38;5;34m32\u001b[0m, \u001b[38;5;34m32\u001b[0m, \u001b[38;5;34m64\u001b[0m)     │              \u001b[38;5;34m0\u001b[0m │ batch_normalization_1… │\n",
              "│ (\u001b[38;5;33mMaxPooling2D\u001b[0m)            │                        │                │                        │\n",
              "├───────────────────────────┼────────────────────────┼────────────────┼────────────────────────┤\n",
              "│ conv2d_21 (\u001b[38;5;33mConv2D\u001b[0m)        │ (\u001b[38;5;45mNone\u001b[0m, \u001b[38;5;34m32\u001b[0m, \u001b[38;5;34m32\u001b[0m, \u001b[38;5;34m128\u001b[0m)    │         \u001b[38;5;34m73,856\u001b[0m │ max_pooling2d_4[\u001b[38;5;34m0\u001b[0m][\u001b[38;5;34m0\u001b[0m]  │\n",
              "├───────────────────────────┼────────────────────────┼────────────────┼────────────────────────┤\n",
              "│ batch_normalization_20    │ (\u001b[38;5;45mNone\u001b[0m, \u001b[38;5;34m32\u001b[0m, \u001b[38;5;34m32\u001b[0m, \u001b[38;5;34m128\u001b[0m)    │            \u001b[38;5;34m512\u001b[0m │ conv2d_21[\u001b[38;5;34m0\u001b[0m][\u001b[38;5;34m0\u001b[0m]        │\n",
              "│ (\u001b[38;5;33mBatchNormalization\u001b[0m)      │                        │                │                        │\n",
              "├───────────────────────────┼────────────────────────┼────────────────┼────────────────────────┤\n",
              "│ conv2d_22 (\u001b[38;5;33mConv2D\u001b[0m)        │ (\u001b[38;5;45mNone\u001b[0m, \u001b[38;5;34m32\u001b[0m, \u001b[38;5;34m32\u001b[0m, \u001b[38;5;34m128\u001b[0m)    │        \u001b[38;5;34m147,584\u001b[0m │ batch_normalization_2… │\n",
              "├───────────────────────────┼────────────────────────┼────────────────┼────────────────────────┤\n",
              "│ batch_normalization_21    │ (\u001b[38;5;45mNone\u001b[0m, \u001b[38;5;34m32\u001b[0m, \u001b[38;5;34m32\u001b[0m, \u001b[38;5;34m128\u001b[0m)    │            \u001b[38;5;34m512\u001b[0m │ conv2d_22[\u001b[38;5;34m0\u001b[0m][\u001b[38;5;34m0\u001b[0m]        │\n",
              "│ (\u001b[38;5;33mBatchNormalization\u001b[0m)      │                        │                │                        │\n",
              "├───────────────────────────┼────────────────────────┼────────────────┼────────────────────────┤\n",
              "│ max_pooling2d_5           │ (\u001b[38;5;45mNone\u001b[0m, \u001b[38;5;34m16\u001b[0m, \u001b[38;5;34m16\u001b[0m, \u001b[38;5;34m128\u001b[0m)    │              \u001b[38;5;34m0\u001b[0m │ batch_normalization_2… │\n",
              "│ (\u001b[38;5;33mMaxPooling2D\u001b[0m)            │                        │                │                        │\n",
              "├───────────────────────────┼────────────────────────┼────────────────┼────────────────────────┤\n",
              "│ conv2d_23 (\u001b[38;5;33mConv2D\u001b[0m)        │ (\u001b[38;5;45mNone\u001b[0m, \u001b[38;5;34m16\u001b[0m, \u001b[38;5;34m16\u001b[0m, \u001b[38;5;34m256\u001b[0m)    │        \u001b[38;5;34m295,168\u001b[0m │ max_pooling2d_5[\u001b[38;5;34m0\u001b[0m][\u001b[38;5;34m0\u001b[0m]  │\n",
              "├───────────────────────────┼────────────────────────┼────────────────┼────────────────────────┤\n",
              "│ batch_normalization_22    │ (\u001b[38;5;45mNone\u001b[0m, \u001b[38;5;34m16\u001b[0m, \u001b[38;5;34m16\u001b[0m, \u001b[38;5;34m256\u001b[0m)    │          \u001b[38;5;34m1,024\u001b[0m │ conv2d_23[\u001b[38;5;34m0\u001b[0m][\u001b[38;5;34m0\u001b[0m]        │\n",
              "│ (\u001b[38;5;33mBatchNormalization\u001b[0m)      │                        │                │                        │\n",
              "├───────────────────────────┼────────────────────────┼────────────────┼────────────────────────┤\n",
              "│ conv2d_24 (\u001b[38;5;33mConv2D\u001b[0m)        │ (\u001b[38;5;45mNone\u001b[0m, \u001b[38;5;34m16\u001b[0m, \u001b[38;5;34m16\u001b[0m, \u001b[38;5;34m256\u001b[0m)    │        \u001b[38;5;34m590,080\u001b[0m │ batch_normalization_2… │\n",
              "├───────────────────────────┼────────────────────────┼────────────────┼────────────────────────┤\n",
              "│ batch_normalization_23    │ (\u001b[38;5;45mNone\u001b[0m, \u001b[38;5;34m16\u001b[0m, \u001b[38;5;34m16\u001b[0m, \u001b[38;5;34m256\u001b[0m)    │          \u001b[38;5;34m1,024\u001b[0m │ conv2d_24[\u001b[38;5;34m0\u001b[0m][\u001b[38;5;34m0\u001b[0m]        │\n",
              "│ (\u001b[38;5;33mBatchNormalization\u001b[0m)      │                        │                │                        │\n",
              "├───────────────────────────┼────────────────────────┼────────────────┼────────────────────────┤\n",
              "│ max_pooling2d_6           │ (\u001b[38;5;45mNone\u001b[0m, \u001b[38;5;34m8\u001b[0m, \u001b[38;5;34m8\u001b[0m, \u001b[38;5;34m256\u001b[0m)      │              \u001b[38;5;34m0\u001b[0m │ batch_normalization_2… │\n",
              "│ (\u001b[38;5;33mMaxPooling2D\u001b[0m)            │                        │                │                        │\n",
              "├───────────────────────────┼────────────────────────┼────────────────┼────────────────────────┤\n",
              "│ conv2d_25 (\u001b[38;5;33mConv2D\u001b[0m)        │ (\u001b[38;5;45mNone\u001b[0m, \u001b[38;5;34m8\u001b[0m, \u001b[38;5;34m8\u001b[0m, \u001b[38;5;34m512\u001b[0m)      │      \u001b[38;5;34m1,180,160\u001b[0m │ max_pooling2d_6[\u001b[38;5;34m0\u001b[0m][\u001b[38;5;34m0\u001b[0m]  │\n",
              "├───────────────────────────┼────────────────────────┼────────────────┼────────────────────────┤\n",
              "│ batch_normalization_24    │ (\u001b[38;5;45mNone\u001b[0m, \u001b[38;5;34m8\u001b[0m, \u001b[38;5;34m8\u001b[0m, \u001b[38;5;34m512\u001b[0m)      │          \u001b[38;5;34m2,048\u001b[0m │ conv2d_25[\u001b[38;5;34m0\u001b[0m][\u001b[38;5;34m0\u001b[0m]        │\n",
              "│ (\u001b[38;5;33mBatchNormalization\u001b[0m)      │                        │                │                        │\n",
              "├───────────────────────────┼────────────────────────┼────────────────┼────────────────────────┤\n",
              "│ conv2d_26 (\u001b[38;5;33mConv2D\u001b[0m)        │ (\u001b[38;5;45mNone\u001b[0m, \u001b[38;5;34m8\u001b[0m, \u001b[38;5;34m8\u001b[0m, \u001b[38;5;34m512\u001b[0m)      │      \u001b[38;5;34m2,359,808\u001b[0m │ batch_normalization_2… │\n",
              "├───────────────────────────┼────────────────────────┼────────────────┼────────────────────────┤\n",
              "│ batch_normalization_25    │ (\u001b[38;5;45mNone\u001b[0m, \u001b[38;5;34m8\u001b[0m, \u001b[38;5;34m8\u001b[0m, \u001b[38;5;34m512\u001b[0m)      │          \u001b[38;5;34m2,048\u001b[0m │ conv2d_26[\u001b[38;5;34m0\u001b[0m][\u001b[38;5;34m0\u001b[0m]        │\n",
              "│ (\u001b[38;5;33mBatchNormalization\u001b[0m)      │                        │                │                        │\n",
              "├───────────────────────────┼────────────────────────┼────────────────┼────────────────────────┤\n",
              "│ max_pooling2d_7           │ (\u001b[38;5;45mNone\u001b[0m, \u001b[38;5;34m4\u001b[0m, \u001b[38;5;34m4\u001b[0m, \u001b[38;5;34m512\u001b[0m)      │              \u001b[38;5;34m0\u001b[0m │ batch_normalization_2… │\n",
              "│ (\u001b[38;5;33mMaxPooling2D\u001b[0m)            │                        │                │                        │\n",
              "├───────────────────────────┼────────────────────────┼────────────────┼────────────────────────┤\n",
              "│ conv2d_27 (\u001b[38;5;33mConv2D\u001b[0m)        │ (\u001b[38;5;45mNone\u001b[0m, \u001b[38;5;34m4\u001b[0m, \u001b[38;5;34m4\u001b[0m, \u001b[38;5;34m1024\u001b[0m)     │      \u001b[38;5;34m4,719,616\u001b[0m │ max_pooling2d_7[\u001b[38;5;34m0\u001b[0m][\u001b[38;5;34m0\u001b[0m]  │\n",
              "├───────────────────────────┼────────────────────────┼────────────────┼────────────────────────┤\n",
              "│ batch_normalization_26    │ (\u001b[38;5;45mNone\u001b[0m, \u001b[38;5;34m4\u001b[0m, \u001b[38;5;34m4\u001b[0m, \u001b[38;5;34m1024\u001b[0m)     │          \u001b[38;5;34m4,096\u001b[0m │ conv2d_27[\u001b[38;5;34m0\u001b[0m][\u001b[38;5;34m0\u001b[0m]        │\n",
              "│ (\u001b[38;5;33mBatchNormalization\u001b[0m)      │                        │                │                        │\n",
              "├───────────────────────────┼────────────────────────┼────────────────┼────────────────────────┤\n",
              "│ conv2d_28 (\u001b[38;5;33mConv2D\u001b[0m)        │ (\u001b[38;5;45mNone\u001b[0m, \u001b[38;5;34m4\u001b[0m, \u001b[38;5;34m4\u001b[0m, \u001b[38;5;34m1024\u001b[0m)     │      \u001b[38;5;34m9,438,208\u001b[0m │ batch_normalization_2… │\n",
              "├───────────────────────────┼────────────────────────┼────────────────┼────────────────────────┤\n",
              "│ batch_normalization_27    │ (\u001b[38;5;45mNone\u001b[0m, \u001b[38;5;34m4\u001b[0m, \u001b[38;5;34m4\u001b[0m, \u001b[38;5;34m1024\u001b[0m)     │          \u001b[38;5;34m4,096\u001b[0m │ conv2d_28[\u001b[38;5;34m0\u001b[0m][\u001b[38;5;34m0\u001b[0m]        │\n",
              "│ (\u001b[38;5;33mBatchNormalization\u001b[0m)      │                        │                │                        │\n",
              "├───────────────────────────┼────────────────────────┼────────────────┼────────────────────────┤\n",
              "│ conv2d_transpose_4        │ (\u001b[38;5;45mNone\u001b[0m, \u001b[38;5;34m8\u001b[0m, \u001b[38;5;34m8\u001b[0m, \u001b[38;5;34m512\u001b[0m)      │      \u001b[38;5;34m2,097,664\u001b[0m │ batch_normalization_2… │\n",
              "│ (\u001b[38;5;33mConv2DTranspose\u001b[0m)         │                        │                │                        │\n",
              "├───────────────────────────┼────────────────────────┼────────────────┼────────────────────────┤\n",
              "│ concatenate_4             │ (\u001b[38;5;45mNone\u001b[0m, \u001b[38;5;34m8\u001b[0m, \u001b[38;5;34m8\u001b[0m, \u001b[38;5;34m1024\u001b[0m)     │              \u001b[38;5;34m0\u001b[0m │ conv2d_transpose_4[\u001b[38;5;34m0\u001b[0m]… │\n",
              "│ (\u001b[38;5;33mConcatenate\u001b[0m)             │                        │                │ batch_normalization_2… │\n",
              "├───────────────────────────┼────────────────────────┼────────────────┼────────────────────────┤\n",
              "│ conv2d_29 (\u001b[38;5;33mConv2D\u001b[0m)        │ (\u001b[38;5;45mNone\u001b[0m, \u001b[38;5;34m8\u001b[0m, \u001b[38;5;34m8\u001b[0m, \u001b[38;5;34m512\u001b[0m)      │      \u001b[38;5;34m4,719,104\u001b[0m │ concatenate_4[\u001b[38;5;34m0\u001b[0m][\u001b[38;5;34m0\u001b[0m]    │\n",
              "├───────────────────────────┼────────────────────────┼────────────────┼────────────────────────┤\n",
              "│ batch_normalization_28    │ (\u001b[38;5;45mNone\u001b[0m, \u001b[38;5;34m8\u001b[0m, \u001b[38;5;34m8\u001b[0m, \u001b[38;5;34m512\u001b[0m)      │          \u001b[38;5;34m2,048\u001b[0m │ conv2d_29[\u001b[38;5;34m0\u001b[0m][\u001b[38;5;34m0\u001b[0m]        │\n",
              "│ (\u001b[38;5;33mBatchNormalization\u001b[0m)      │                        │                │                        │\n",
              "├───────────────────────────┼────────────────────────┼────────────────┼────────────────────────┤\n",
              "│ conv2d_30 (\u001b[38;5;33mConv2D\u001b[0m)        │ (\u001b[38;5;45mNone\u001b[0m, \u001b[38;5;34m8\u001b[0m, \u001b[38;5;34m8\u001b[0m, \u001b[38;5;34m512\u001b[0m)      │      \u001b[38;5;34m2,359,808\u001b[0m │ batch_normalization_2… │\n",
              "├───────────────────────────┼────────────────────────┼────────────────┼────────────────────────┤\n",
              "│ batch_normalization_29    │ (\u001b[38;5;45mNone\u001b[0m, \u001b[38;5;34m8\u001b[0m, \u001b[38;5;34m8\u001b[0m, \u001b[38;5;34m512\u001b[0m)      │          \u001b[38;5;34m2,048\u001b[0m │ conv2d_30[\u001b[38;5;34m0\u001b[0m][\u001b[38;5;34m0\u001b[0m]        │\n",
              "│ (\u001b[38;5;33mBatchNormalization\u001b[0m)      │                        │                │                        │\n",
              "├───────────────────────────┼────────────────────────┼────────────────┼────────────────────────┤\n",
              "│ conv2d_transpose_5        │ (\u001b[38;5;45mNone\u001b[0m, \u001b[38;5;34m16\u001b[0m, \u001b[38;5;34m16\u001b[0m, \u001b[38;5;34m256\u001b[0m)    │        \u001b[38;5;34m524,544\u001b[0m │ batch_normalization_2… │\n",
              "│ (\u001b[38;5;33mConv2DTranspose\u001b[0m)         │                        │                │                        │\n",
              "├───────────────────────────┼────────────────────────┼────────────────┼────────────────────────┤\n",
              "│ concatenate_5             │ (\u001b[38;5;45mNone\u001b[0m, \u001b[38;5;34m16\u001b[0m, \u001b[38;5;34m16\u001b[0m, \u001b[38;5;34m512\u001b[0m)    │              \u001b[38;5;34m0\u001b[0m │ conv2d_transpose_5[\u001b[38;5;34m0\u001b[0m]… │\n",
              "│ (\u001b[38;5;33mConcatenate\u001b[0m)             │                        │                │ batch_normalization_2… │\n",
              "├───────────────────────────┼────────────────────────┼────────────────┼────────────────────────┤\n",
              "│ conv2d_31 (\u001b[38;5;33mConv2D\u001b[0m)        │ (\u001b[38;5;45mNone\u001b[0m, \u001b[38;5;34m16\u001b[0m, \u001b[38;5;34m16\u001b[0m, \u001b[38;5;34m256\u001b[0m)    │      \u001b[38;5;34m1,179,904\u001b[0m │ concatenate_5[\u001b[38;5;34m0\u001b[0m][\u001b[38;5;34m0\u001b[0m]    │\n",
              "├───────────────────────────┼────────────────────────┼────────────────┼────────────────────────┤\n",
              "│ batch_normalization_30    │ (\u001b[38;5;45mNone\u001b[0m, \u001b[38;5;34m16\u001b[0m, \u001b[38;5;34m16\u001b[0m, \u001b[38;5;34m256\u001b[0m)    │          \u001b[38;5;34m1,024\u001b[0m │ conv2d_31[\u001b[38;5;34m0\u001b[0m][\u001b[38;5;34m0\u001b[0m]        │\n",
              "│ (\u001b[38;5;33mBatchNormalization\u001b[0m)      │                        │                │                        │\n",
              "├───────────────────────────┼────────────────────────┼────────────────┼────────────────────────┤\n",
              "│ conv2d_32 (\u001b[38;5;33mConv2D\u001b[0m)        │ (\u001b[38;5;45mNone\u001b[0m, \u001b[38;5;34m16\u001b[0m, \u001b[38;5;34m16\u001b[0m, \u001b[38;5;34m256\u001b[0m)    │        \u001b[38;5;34m590,080\u001b[0m │ batch_normalization_3… │\n",
              "├───────────────────────────┼────────────────────────┼────────────────┼────────────────────────┤\n",
              "│ batch_normalization_31    │ (\u001b[38;5;45mNone\u001b[0m, \u001b[38;5;34m16\u001b[0m, \u001b[38;5;34m16\u001b[0m, \u001b[38;5;34m256\u001b[0m)    │          \u001b[38;5;34m1,024\u001b[0m │ conv2d_32[\u001b[38;5;34m0\u001b[0m][\u001b[38;5;34m0\u001b[0m]        │\n",
              "│ (\u001b[38;5;33mBatchNormalization\u001b[0m)      │                        │                │                        │\n",
              "├───────────────────────────┼────────────────────────┼────────────────┼────────────────────────┤\n",
              "│ conv2d_transpose_6        │ (\u001b[38;5;45mNone\u001b[0m, \u001b[38;5;34m32\u001b[0m, \u001b[38;5;34m32\u001b[0m, \u001b[38;5;34m128\u001b[0m)    │        \u001b[38;5;34m131,200\u001b[0m │ batch_normalization_3… │\n",
              "│ (\u001b[38;5;33mConv2DTranspose\u001b[0m)         │                        │                │                        │\n",
              "├───────────────────────────┼────────────────────────┼────────────────┼────────────────────────┤\n",
              "│ concatenate_6             │ (\u001b[38;5;45mNone\u001b[0m, \u001b[38;5;34m32\u001b[0m, \u001b[38;5;34m32\u001b[0m, \u001b[38;5;34m256\u001b[0m)    │              \u001b[38;5;34m0\u001b[0m │ conv2d_transpose_6[\u001b[38;5;34m0\u001b[0m]… │\n",
              "│ (\u001b[38;5;33mConcatenate\u001b[0m)             │                        │                │ batch_normalization_2… │\n",
              "├───────────────────────────┼────────────────────────┼────────────────┼────────────────────────┤\n",
              "│ conv2d_33 (\u001b[38;5;33mConv2D\u001b[0m)        │ (\u001b[38;5;45mNone\u001b[0m, \u001b[38;5;34m32\u001b[0m, \u001b[38;5;34m32\u001b[0m, \u001b[38;5;34m128\u001b[0m)    │        \u001b[38;5;34m295,040\u001b[0m │ concatenate_6[\u001b[38;5;34m0\u001b[0m][\u001b[38;5;34m0\u001b[0m]    │\n",
              "├───────────────────────────┼────────────────────────┼────────────────┼────────────────────────┤\n",
              "│ batch_normalization_32    │ (\u001b[38;5;45mNone\u001b[0m, \u001b[38;5;34m32\u001b[0m, \u001b[38;5;34m32\u001b[0m, \u001b[38;5;34m128\u001b[0m)    │            \u001b[38;5;34m512\u001b[0m │ conv2d_33[\u001b[38;5;34m0\u001b[0m][\u001b[38;5;34m0\u001b[0m]        │\n",
              "│ (\u001b[38;5;33mBatchNormalization\u001b[0m)      │                        │                │                        │\n",
              "├───────────────────────────┼────────────────────────┼────────────────┼────────────────────────┤\n",
              "│ conv2d_34 (\u001b[38;5;33mConv2D\u001b[0m)        │ (\u001b[38;5;45mNone\u001b[0m, \u001b[38;5;34m32\u001b[0m, \u001b[38;5;34m32\u001b[0m, \u001b[38;5;34m128\u001b[0m)    │        \u001b[38;5;34m147,584\u001b[0m │ batch_normalization_3… │\n",
              "├───────────────────────────┼────────────────────────┼────────────────┼────────────────────────┤\n",
              "│ batch_normalization_33    │ (\u001b[38;5;45mNone\u001b[0m, \u001b[38;5;34m32\u001b[0m, \u001b[38;5;34m32\u001b[0m, \u001b[38;5;34m128\u001b[0m)    │            \u001b[38;5;34m512\u001b[0m │ conv2d_34[\u001b[38;5;34m0\u001b[0m][\u001b[38;5;34m0\u001b[0m]        │\n",
              "│ (\u001b[38;5;33mBatchNormalization\u001b[0m)      │                        │                │                        │\n",
              "├───────────────────────────┼────────────────────────┼────────────────┼────────────────────────┤\n",
              "│ conv2d_transpose_7        │ (\u001b[38;5;45mNone\u001b[0m, \u001b[38;5;34m64\u001b[0m, \u001b[38;5;34m64\u001b[0m, \u001b[38;5;34m64\u001b[0m)     │         \u001b[38;5;34m32,832\u001b[0m │ batch_normalization_3… │\n",
              "│ (\u001b[38;5;33mConv2DTranspose\u001b[0m)         │                        │                │                        │\n",
              "├───────────────────────────┼────────────────────────┼────────────────┼────────────────────────┤\n",
              "│ concatenate_7             │ (\u001b[38;5;45mNone\u001b[0m, \u001b[38;5;34m64\u001b[0m, \u001b[38;5;34m64\u001b[0m, \u001b[38;5;34m128\u001b[0m)    │              \u001b[38;5;34m0\u001b[0m │ conv2d_transpose_7[\u001b[38;5;34m0\u001b[0m]… │\n",
              "│ (\u001b[38;5;33mConcatenate\u001b[0m)             │                        │                │ batch_normalization_1… │\n",
              "├───────────────────────────┼────────────────────────┼────────────────┼────────────────────────┤\n",
              "│ conv2d_35 (\u001b[38;5;33mConv2D\u001b[0m)        │ (\u001b[38;5;45mNone\u001b[0m, \u001b[38;5;34m64\u001b[0m, \u001b[38;5;34m64\u001b[0m, \u001b[38;5;34m64\u001b[0m)     │         \u001b[38;5;34m73,792\u001b[0m │ concatenate_7[\u001b[38;5;34m0\u001b[0m][\u001b[38;5;34m0\u001b[0m]    │\n",
              "├───────────────────────────┼────────────────────────┼────────────────┼────────────────────────┤\n",
              "│ batch_normalization_34    │ (\u001b[38;5;45mNone\u001b[0m, \u001b[38;5;34m64\u001b[0m, \u001b[38;5;34m64\u001b[0m, \u001b[38;5;34m64\u001b[0m)     │            \u001b[38;5;34m256\u001b[0m │ conv2d_35[\u001b[38;5;34m0\u001b[0m][\u001b[38;5;34m0\u001b[0m]        │\n",
              "│ (\u001b[38;5;33mBatchNormalization\u001b[0m)      │                        │                │                        │\n",
              "├───────────────────────────┼────────────────────────┼────────────────┼────────────────────────┤\n",
              "│ conv2d_36 (\u001b[38;5;33mConv2D\u001b[0m)        │ (\u001b[38;5;45mNone\u001b[0m, \u001b[38;5;34m64\u001b[0m, \u001b[38;5;34m64\u001b[0m, \u001b[38;5;34m64\u001b[0m)     │         \u001b[38;5;34m36,928\u001b[0m │ batch_normalization_3… │\n",
              "├───────────────────────────┼────────────────────────┼────────────────┼────────────────────────┤\n",
              "│ batch_normalization_35    │ (\u001b[38;5;45mNone\u001b[0m, \u001b[38;5;34m64\u001b[0m, \u001b[38;5;34m64\u001b[0m, \u001b[38;5;34m64\u001b[0m)     │            \u001b[38;5;34m256\u001b[0m │ conv2d_36[\u001b[38;5;34m0\u001b[0m][\u001b[38;5;34m0\u001b[0m]        │\n",
              "│ (\u001b[38;5;33mBatchNormalization\u001b[0m)      │                        │                │                        │\n",
              "├───────────────────────────┼────────────────────────┼────────────────┼────────────────────────┤\n",
              "│ conv2d_37 (\u001b[38;5;33mConv2D\u001b[0m)        │ (\u001b[38;5;45mNone\u001b[0m, \u001b[38;5;34m64\u001b[0m, \u001b[38;5;34m64\u001b[0m, \u001b[38;5;34m1\u001b[0m)      │             \u001b[38;5;34m65\u001b[0m │ batch_normalization_3… │\n",
              "└───────────────────────────┴────────────────────────┴────────────────┴────────────────────────┘\n"
            ],
            "text/html": [
              "<pre style=\"white-space:pre;overflow-x:auto;line-height:normal;font-family:Menlo,'DejaVu Sans Mono',consolas,'Courier New',monospace\">┏━━━━━━━━━━━━━━━━━━━━━━━━━━━┳━━━━━━━━━━━━━━━━━━━━━━━━┳━━━━━━━━━━━━━━━━┳━━━━━━━━━━━━━━━━━━━━━━━━┓\n",
              "┃<span style=\"font-weight: bold\"> Layer (type)              </span>┃<span style=\"font-weight: bold\"> Output Shape           </span>┃<span style=\"font-weight: bold\">        Param # </span>┃<span style=\"font-weight: bold\"> Connected to           </span>┃\n",
              "┡━━━━━━━━━━━━━━━━━━━━━━━━━━━╇━━━━━━━━━━━━━━━━━━━━━━━━╇━━━━━━━━━━━━━━━━╇━━━━━━━━━━━━━━━━━━━━━━━━┩\n",
              "│ input_layer_1             │ (<span style=\"color: #00d7ff; text-decoration-color: #00d7ff\">None</span>, <span style=\"color: #00af00; text-decoration-color: #00af00\">64</span>, <span style=\"color: #00af00; text-decoration-color: #00af00\">64</span>, <span style=\"color: #00af00; text-decoration-color: #00af00\">3</span>)      │              <span style=\"color: #00af00; text-decoration-color: #00af00\">0</span> │ -                      │\n",
              "│ (<span style=\"color: #0087ff; text-decoration-color: #0087ff\">InputLayer</span>)              │                        │                │                        │\n",
              "├───────────────────────────┼────────────────────────┼────────────────┼────────────────────────┤\n",
              "│ conv2d_19 (<span style=\"color: #0087ff; text-decoration-color: #0087ff\">Conv2D</span>)        │ (<span style=\"color: #00d7ff; text-decoration-color: #00d7ff\">None</span>, <span style=\"color: #00af00; text-decoration-color: #00af00\">64</span>, <span style=\"color: #00af00; text-decoration-color: #00af00\">64</span>, <span style=\"color: #00af00; text-decoration-color: #00af00\">64</span>)     │          <span style=\"color: #00af00; text-decoration-color: #00af00\">1,792</span> │ input_layer_1[<span style=\"color: #00af00; text-decoration-color: #00af00\">0</span>][<span style=\"color: #00af00; text-decoration-color: #00af00\">0</span>]    │\n",
              "├───────────────────────────┼────────────────────────┼────────────────┼────────────────────────┤\n",
              "│ batch_normalization_18    │ (<span style=\"color: #00d7ff; text-decoration-color: #00d7ff\">None</span>, <span style=\"color: #00af00; text-decoration-color: #00af00\">64</span>, <span style=\"color: #00af00; text-decoration-color: #00af00\">64</span>, <span style=\"color: #00af00; text-decoration-color: #00af00\">64</span>)     │            <span style=\"color: #00af00; text-decoration-color: #00af00\">256</span> │ conv2d_19[<span style=\"color: #00af00; text-decoration-color: #00af00\">0</span>][<span style=\"color: #00af00; text-decoration-color: #00af00\">0</span>]        │\n",
              "│ (<span style=\"color: #0087ff; text-decoration-color: #0087ff\">BatchNormalization</span>)      │                        │                │                        │\n",
              "├───────────────────────────┼────────────────────────┼────────────────┼────────────────────────┤\n",
              "│ conv2d_20 (<span style=\"color: #0087ff; text-decoration-color: #0087ff\">Conv2D</span>)        │ (<span style=\"color: #00d7ff; text-decoration-color: #00d7ff\">None</span>, <span style=\"color: #00af00; text-decoration-color: #00af00\">64</span>, <span style=\"color: #00af00; text-decoration-color: #00af00\">64</span>, <span style=\"color: #00af00; text-decoration-color: #00af00\">64</span>)     │         <span style=\"color: #00af00; text-decoration-color: #00af00\">36,928</span> │ batch_normalization_1… │\n",
              "├───────────────────────────┼────────────────────────┼────────────────┼────────────────────────┤\n",
              "│ batch_normalization_19    │ (<span style=\"color: #00d7ff; text-decoration-color: #00d7ff\">None</span>, <span style=\"color: #00af00; text-decoration-color: #00af00\">64</span>, <span style=\"color: #00af00; text-decoration-color: #00af00\">64</span>, <span style=\"color: #00af00; text-decoration-color: #00af00\">64</span>)     │            <span style=\"color: #00af00; text-decoration-color: #00af00\">256</span> │ conv2d_20[<span style=\"color: #00af00; text-decoration-color: #00af00\">0</span>][<span style=\"color: #00af00; text-decoration-color: #00af00\">0</span>]        │\n",
              "│ (<span style=\"color: #0087ff; text-decoration-color: #0087ff\">BatchNormalization</span>)      │                        │                │                        │\n",
              "├───────────────────────────┼────────────────────────┼────────────────┼────────────────────────┤\n",
              "│ max_pooling2d_4           │ (<span style=\"color: #00d7ff; text-decoration-color: #00d7ff\">None</span>, <span style=\"color: #00af00; text-decoration-color: #00af00\">32</span>, <span style=\"color: #00af00; text-decoration-color: #00af00\">32</span>, <span style=\"color: #00af00; text-decoration-color: #00af00\">64</span>)     │              <span style=\"color: #00af00; text-decoration-color: #00af00\">0</span> │ batch_normalization_1… │\n",
              "│ (<span style=\"color: #0087ff; text-decoration-color: #0087ff\">MaxPooling2D</span>)            │                        │                │                        │\n",
              "├───────────────────────────┼────────────────────────┼────────────────┼────────────────────────┤\n",
              "│ conv2d_21 (<span style=\"color: #0087ff; text-decoration-color: #0087ff\">Conv2D</span>)        │ (<span style=\"color: #00d7ff; text-decoration-color: #00d7ff\">None</span>, <span style=\"color: #00af00; text-decoration-color: #00af00\">32</span>, <span style=\"color: #00af00; text-decoration-color: #00af00\">32</span>, <span style=\"color: #00af00; text-decoration-color: #00af00\">128</span>)    │         <span style=\"color: #00af00; text-decoration-color: #00af00\">73,856</span> │ max_pooling2d_4[<span style=\"color: #00af00; text-decoration-color: #00af00\">0</span>][<span style=\"color: #00af00; text-decoration-color: #00af00\">0</span>]  │\n",
              "├───────────────────────────┼────────────────────────┼────────────────┼────────────────────────┤\n",
              "│ batch_normalization_20    │ (<span style=\"color: #00d7ff; text-decoration-color: #00d7ff\">None</span>, <span style=\"color: #00af00; text-decoration-color: #00af00\">32</span>, <span style=\"color: #00af00; text-decoration-color: #00af00\">32</span>, <span style=\"color: #00af00; text-decoration-color: #00af00\">128</span>)    │            <span style=\"color: #00af00; text-decoration-color: #00af00\">512</span> │ conv2d_21[<span style=\"color: #00af00; text-decoration-color: #00af00\">0</span>][<span style=\"color: #00af00; text-decoration-color: #00af00\">0</span>]        │\n",
              "│ (<span style=\"color: #0087ff; text-decoration-color: #0087ff\">BatchNormalization</span>)      │                        │                │                        │\n",
              "├───────────────────────────┼────────────────────────┼────────────────┼────────────────────────┤\n",
              "│ conv2d_22 (<span style=\"color: #0087ff; text-decoration-color: #0087ff\">Conv2D</span>)        │ (<span style=\"color: #00d7ff; text-decoration-color: #00d7ff\">None</span>, <span style=\"color: #00af00; text-decoration-color: #00af00\">32</span>, <span style=\"color: #00af00; text-decoration-color: #00af00\">32</span>, <span style=\"color: #00af00; text-decoration-color: #00af00\">128</span>)    │        <span style=\"color: #00af00; text-decoration-color: #00af00\">147,584</span> │ batch_normalization_2… │\n",
              "├───────────────────────────┼────────────────────────┼────────────────┼────────────────────────┤\n",
              "│ batch_normalization_21    │ (<span style=\"color: #00d7ff; text-decoration-color: #00d7ff\">None</span>, <span style=\"color: #00af00; text-decoration-color: #00af00\">32</span>, <span style=\"color: #00af00; text-decoration-color: #00af00\">32</span>, <span style=\"color: #00af00; text-decoration-color: #00af00\">128</span>)    │            <span style=\"color: #00af00; text-decoration-color: #00af00\">512</span> │ conv2d_22[<span style=\"color: #00af00; text-decoration-color: #00af00\">0</span>][<span style=\"color: #00af00; text-decoration-color: #00af00\">0</span>]        │\n",
              "│ (<span style=\"color: #0087ff; text-decoration-color: #0087ff\">BatchNormalization</span>)      │                        │                │                        │\n",
              "├───────────────────────────┼────────────────────────┼────────────────┼────────────────────────┤\n",
              "│ max_pooling2d_5           │ (<span style=\"color: #00d7ff; text-decoration-color: #00d7ff\">None</span>, <span style=\"color: #00af00; text-decoration-color: #00af00\">16</span>, <span style=\"color: #00af00; text-decoration-color: #00af00\">16</span>, <span style=\"color: #00af00; text-decoration-color: #00af00\">128</span>)    │              <span style=\"color: #00af00; text-decoration-color: #00af00\">0</span> │ batch_normalization_2… │\n",
              "│ (<span style=\"color: #0087ff; text-decoration-color: #0087ff\">MaxPooling2D</span>)            │                        │                │                        │\n",
              "├───────────────────────────┼────────────────────────┼────────────────┼────────────────────────┤\n",
              "│ conv2d_23 (<span style=\"color: #0087ff; text-decoration-color: #0087ff\">Conv2D</span>)        │ (<span style=\"color: #00d7ff; text-decoration-color: #00d7ff\">None</span>, <span style=\"color: #00af00; text-decoration-color: #00af00\">16</span>, <span style=\"color: #00af00; text-decoration-color: #00af00\">16</span>, <span style=\"color: #00af00; text-decoration-color: #00af00\">256</span>)    │        <span style=\"color: #00af00; text-decoration-color: #00af00\">295,168</span> │ max_pooling2d_5[<span style=\"color: #00af00; text-decoration-color: #00af00\">0</span>][<span style=\"color: #00af00; text-decoration-color: #00af00\">0</span>]  │\n",
              "├───────────────────────────┼────────────────────────┼────────────────┼────────────────────────┤\n",
              "│ batch_normalization_22    │ (<span style=\"color: #00d7ff; text-decoration-color: #00d7ff\">None</span>, <span style=\"color: #00af00; text-decoration-color: #00af00\">16</span>, <span style=\"color: #00af00; text-decoration-color: #00af00\">16</span>, <span style=\"color: #00af00; text-decoration-color: #00af00\">256</span>)    │          <span style=\"color: #00af00; text-decoration-color: #00af00\">1,024</span> │ conv2d_23[<span style=\"color: #00af00; text-decoration-color: #00af00\">0</span>][<span style=\"color: #00af00; text-decoration-color: #00af00\">0</span>]        │\n",
              "│ (<span style=\"color: #0087ff; text-decoration-color: #0087ff\">BatchNormalization</span>)      │                        │                │                        │\n",
              "├───────────────────────────┼────────────────────────┼────────────────┼────────────────────────┤\n",
              "│ conv2d_24 (<span style=\"color: #0087ff; text-decoration-color: #0087ff\">Conv2D</span>)        │ (<span style=\"color: #00d7ff; text-decoration-color: #00d7ff\">None</span>, <span style=\"color: #00af00; text-decoration-color: #00af00\">16</span>, <span style=\"color: #00af00; text-decoration-color: #00af00\">16</span>, <span style=\"color: #00af00; text-decoration-color: #00af00\">256</span>)    │        <span style=\"color: #00af00; text-decoration-color: #00af00\">590,080</span> │ batch_normalization_2… │\n",
              "├───────────────────────────┼────────────────────────┼────────────────┼────────────────────────┤\n",
              "│ batch_normalization_23    │ (<span style=\"color: #00d7ff; text-decoration-color: #00d7ff\">None</span>, <span style=\"color: #00af00; text-decoration-color: #00af00\">16</span>, <span style=\"color: #00af00; text-decoration-color: #00af00\">16</span>, <span style=\"color: #00af00; text-decoration-color: #00af00\">256</span>)    │          <span style=\"color: #00af00; text-decoration-color: #00af00\">1,024</span> │ conv2d_24[<span style=\"color: #00af00; text-decoration-color: #00af00\">0</span>][<span style=\"color: #00af00; text-decoration-color: #00af00\">0</span>]        │\n",
              "│ (<span style=\"color: #0087ff; text-decoration-color: #0087ff\">BatchNormalization</span>)      │                        │                │                        │\n",
              "├───────────────────────────┼────────────────────────┼────────────────┼────────────────────────┤\n",
              "│ max_pooling2d_6           │ (<span style=\"color: #00d7ff; text-decoration-color: #00d7ff\">None</span>, <span style=\"color: #00af00; text-decoration-color: #00af00\">8</span>, <span style=\"color: #00af00; text-decoration-color: #00af00\">8</span>, <span style=\"color: #00af00; text-decoration-color: #00af00\">256</span>)      │              <span style=\"color: #00af00; text-decoration-color: #00af00\">0</span> │ batch_normalization_2… │\n",
              "│ (<span style=\"color: #0087ff; text-decoration-color: #0087ff\">MaxPooling2D</span>)            │                        │                │                        │\n",
              "├───────────────────────────┼────────────────────────┼────────────────┼────────────────────────┤\n",
              "│ conv2d_25 (<span style=\"color: #0087ff; text-decoration-color: #0087ff\">Conv2D</span>)        │ (<span style=\"color: #00d7ff; text-decoration-color: #00d7ff\">None</span>, <span style=\"color: #00af00; text-decoration-color: #00af00\">8</span>, <span style=\"color: #00af00; text-decoration-color: #00af00\">8</span>, <span style=\"color: #00af00; text-decoration-color: #00af00\">512</span>)      │      <span style=\"color: #00af00; text-decoration-color: #00af00\">1,180,160</span> │ max_pooling2d_6[<span style=\"color: #00af00; text-decoration-color: #00af00\">0</span>][<span style=\"color: #00af00; text-decoration-color: #00af00\">0</span>]  │\n",
              "├───────────────────────────┼────────────────────────┼────────────────┼────────────────────────┤\n",
              "│ batch_normalization_24    │ (<span style=\"color: #00d7ff; text-decoration-color: #00d7ff\">None</span>, <span style=\"color: #00af00; text-decoration-color: #00af00\">8</span>, <span style=\"color: #00af00; text-decoration-color: #00af00\">8</span>, <span style=\"color: #00af00; text-decoration-color: #00af00\">512</span>)      │          <span style=\"color: #00af00; text-decoration-color: #00af00\">2,048</span> │ conv2d_25[<span style=\"color: #00af00; text-decoration-color: #00af00\">0</span>][<span style=\"color: #00af00; text-decoration-color: #00af00\">0</span>]        │\n",
              "│ (<span style=\"color: #0087ff; text-decoration-color: #0087ff\">BatchNormalization</span>)      │                        │                │                        │\n",
              "├───────────────────────────┼────────────────────────┼────────────────┼────────────────────────┤\n",
              "│ conv2d_26 (<span style=\"color: #0087ff; text-decoration-color: #0087ff\">Conv2D</span>)        │ (<span style=\"color: #00d7ff; text-decoration-color: #00d7ff\">None</span>, <span style=\"color: #00af00; text-decoration-color: #00af00\">8</span>, <span style=\"color: #00af00; text-decoration-color: #00af00\">8</span>, <span style=\"color: #00af00; text-decoration-color: #00af00\">512</span>)      │      <span style=\"color: #00af00; text-decoration-color: #00af00\">2,359,808</span> │ batch_normalization_2… │\n",
              "├───────────────────────────┼────────────────────────┼────────────────┼────────────────────────┤\n",
              "│ batch_normalization_25    │ (<span style=\"color: #00d7ff; text-decoration-color: #00d7ff\">None</span>, <span style=\"color: #00af00; text-decoration-color: #00af00\">8</span>, <span style=\"color: #00af00; text-decoration-color: #00af00\">8</span>, <span style=\"color: #00af00; text-decoration-color: #00af00\">512</span>)      │          <span style=\"color: #00af00; text-decoration-color: #00af00\">2,048</span> │ conv2d_26[<span style=\"color: #00af00; text-decoration-color: #00af00\">0</span>][<span style=\"color: #00af00; text-decoration-color: #00af00\">0</span>]        │\n",
              "│ (<span style=\"color: #0087ff; text-decoration-color: #0087ff\">BatchNormalization</span>)      │                        │                │                        │\n",
              "├───────────────────────────┼────────────────────────┼────────────────┼────────────────────────┤\n",
              "│ max_pooling2d_7           │ (<span style=\"color: #00d7ff; text-decoration-color: #00d7ff\">None</span>, <span style=\"color: #00af00; text-decoration-color: #00af00\">4</span>, <span style=\"color: #00af00; text-decoration-color: #00af00\">4</span>, <span style=\"color: #00af00; text-decoration-color: #00af00\">512</span>)      │              <span style=\"color: #00af00; text-decoration-color: #00af00\">0</span> │ batch_normalization_2… │\n",
              "│ (<span style=\"color: #0087ff; text-decoration-color: #0087ff\">MaxPooling2D</span>)            │                        │                │                        │\n",
              "├───────────────────────────┼────────────────────────┼────────────────┼────────────────────────┤\n",
              "│ conv2d_27 (<span style=\"color: #0087ff; text-decoration-color: #0087ff\">Conv2D</span>)        │ (<span style=\"color: #00d7ff; text-decoration-color: #00d7ff\">None</span>, <span style=\"color: #00af00; text-decoration-color: #00af00\">4</span>, <span style=\"color: #00af00; text-decoration-color: #00af00\">4</span>, <span style=\"color: #00af00; text-decoration-color: #00af00\">1024</span>)     │      <span style=\"color: #00af00; text-decoration-color: #00af00\">4,719,616</span> │ max_pooling2d_7[<span style=\"color: #00af00; text-decoration-color: #00af00\">0</span>][<span style=\"color: #00af00; text-decoration-color: #00af00\">0</span>]  │\n",
              "├───────────────────────────┼────────────────────────┼────────────────┼────────────────────────┤\n",
              "│ batch_normalization_26    │ (<span style=\"color: #00d7ff; text-decoration-color: #00d7ff\">None</span>, <span style=\"color: #00af00; text-decoration-color: #00af00\">4</span>, <span style=\"color: #00af00; text-decoration-color: #00af00\">4</span>, <span style=\"color: #00af00; text-decoration-color: #00af00\">1024</span>)     │          <span style=\"color: #00af00; text-decoration-color: #00af00\">4,096</span> │ conv2d_27[<span style=\"color: #00af00; text-decoration-color: #00af00\">0</span>][<span style=\"color: #00af00; text-decoration-color: #00af00\">0</span>]        │\n",
              "│ (<span style=\"color: #0087ff; text-decoration-color: #0087ff\">BatchNormalization</span>)      │                        │                │                        │\n",
              "├───────────────────────────┼────────────────────────┼────────────────┼────────────────────────┤\n",
              "│ conv2d_28 (<span style=\"color: #0087ff; text-decoration-color: #0087ff\">Conv2D</span>)        │ (<span style=\"color: #00d7ff; text-decoration-color: #00d7ff\">None</span>, <span style=\"color: #00af00; text-decoration-color: #00af00\">4</span>, <span style=\"color: #00af00; text-decoration-color: #00af00\">4</span>, <span style=\"color: #00af00; text-decoration-color: #00af00\">1024</span>)     │      <span style=\"color: #00af00; text-decoration-color: #00af00\">9,438,208</span> │ batch_normalization_2… │\n",
              "├───────────────────────────┼────────────────────────┼────────────────┼────────────────────────┤\n",
              "│ batch_normalization_27    │ (<span style=\"color: #00d7ff; text-decoration-color: #00d7ff\">None</span>, <span style=\"color: #00af00; text-decoration-color: #00af00\">4</span>, <span style=\"color: #00af00; text-decoration-color: #00af00\">4</span>, <span style=\"color: #00af00; text-decoration-color: #00af00\">1024</span>)     │          <span style=\"color: #00af00; text-decoration-color: #00af00\">4,096</span> │ conv2d_28[<span style=\"color: #00af00; text-decoration-color: #00af00\">0</span>][<span style=\"color: #00af00; text-decoration-color: #00af00\">0</span>]        │\n",
              "│ (<span style=\"color: #0087ff; text-decoration-color: #0087ff\">BatchNormalization</span>)      │                        │                │                        │\n",
              "├───────────────────────────┼────────────────────────┼────────────────┼────────────────────────┤\n",
              "│ conv2d_transpose_4        │ (<span style=\"color: #00d7ff; text-decoration-color: #00d7ff\">None</span>, <span style=\"color: #00af00; text-decoration-color: #00af00\">8</span>, <span style=\"color: #00af00; text-decoration-color: #00af00\">8</span>, <span style=\"color: #00af00; text-decoration-color: #00af00\">512</span>)      │      <span style=\"color: #00af00; text-decoration-color: #00af00\">2,097,664</span> │ batch_normalization_2… │\n",
              "│ (<span style=\"color: #0087ff; text-decoration-color: #0087ff\">Conv2DTranspose</span>)         │                        │                │                        │\n",
              "├───────────────────────────┼────────────────────────┼────────────────┼────────────────────────┤\n",
              "│ concatenate_4             │ (<span style=\"color: #00d7ff; text-decoration-color: #00d7ff\">None</span>, <span style=\"color: #00af00; text-decoration-color: #00af00\">8</span>, <span style=\"color: #00af00; text-decoration-color: #00af00\">8</span>, <span style=\"color: #00af00; text-decoration-color: #00af00\">1024</span>)     │              <span style=\"color: #00af00; text-decoration-color: #00af00\">0</span> │ conv2d_transpose_4[<span style=\"color: #00af00; text-decoration-color: #00af00\">0</span>]… │\n",
              "│ (<span style=\"color: #0087ff; text-decoration-color: #0087ff\">Concatenate</span>)             │                        │                │ batch_normalization_2… │\n",
              "├───────────────────────────┼────────────────────────┼────────────────┼────────────────────────┤\n",
              "│ conv2d_29 (<span style=\"color: #0087ff; text-decoration-color: #0087ff\">Conv2D</span>)        │ (<span style=\"color: #00d7ff; text-decoration-color: #00d7ff\">None</span>, <span style=\"color: #00af00; text-decoration-color: #00af00\">8</span>, <span style=\"color: #00af00; text-decoration-color: #00af00\">8</span>, <span style=\"color: #00af00; text-decoration-color: #00af00\">512</span>)      │      <span style=\"color: #00af00; text-decoration-color: #00af00\">4,719,104</span> │ concatenate_4[<span style=\"color: #00af00; text-decoration-color: #00af00\">0</span>][<span style=\"color: #00af00; text-decoration-color: #00af00\">0</span>]    │\n",
              "├───────────────────────────┼────────────────────────┼────────────────┼────────────────────────┤\n",
              "│ batch_normalization_28    │ (<span style=\"color: #00d7ff; text-decoration-color: #00d7ff\">None</span>, <span style=\"color: #00af00; text-decoration-color: #00af00\">8</span>, <span style=\"color: #00af00; text-decoration-color: #00af00\">8</span>, <span style=\"color: #00af00; text-decoration-color: #00af00\">512</span>)      │          <span style=\"color: #00af00; text-decoration-color: #00af00\">2,048</span> │ conv2d_29[<span style=\"color: #00af00; text-decoration-color: #00af00\">0</span>][<span style=\"color: #00af00; text-decoration-color: #00af00\">0</span>]        │\n",
              "│ (<span style=\"color: #0087ff; text-decoration-color: #0087ff\">BatchNormalization</span>)      │                        │                │                        │\n",
              "├───────────────────────────┼────────────────────────┼────────────────┼────────────────────────┤\n",
              "│ conv2d_30 (<span style=\"color: #0087ff; text-decoration-color: #0087ff\">Conv2D</span>)        │ (<span style=\"color: #00d7ff; text-decoration-color: #00d7ff\">None</span>, <span style=\"color: #00af00; text-decoration-color: #00af00\">8</span>, <span style=\"color: #00af00; text-decoration-color: #00af00\">8</span>, <span style=\"color: #00af00; text-decoration-color: #00af00\">512</span>)      │      <span style=\"color: #00af00; text-decoration-color: #00af00\">2,359,808</span> │ batch_normalization_2… │\n",
              "├───────────────────────────┼────────────────────────┼────────────────┼────────────────────────┤\n",
              "│ batch_normalization_29    │ (<span style=\"color: #00d7ff; text-decoration-color: #00d7ff\">None</span>, <span style=\"color: #00af00; text-decoration-color: #00af00\">8</span>, <span style=\"color: #00af00; text-decoration-color: #00af00\">8</span>, <span style=\"color: #00af00; text-decoration-color: #00af00\">512</span>)      │          <span style=\"color: #00af00; text-decoration-color: #00af00\">2,048</span> │ conv2d_30[<span style=\"color: #00af00; text-decoration-color: #00af00\">0</span>][<span style=\"color: #00af00; text-decoration-color: #00af00\">0</span>]        │\n",
              "│ (<span style=\"color: #0087ff; text-decoration-color: #0087ff\">BatchNormalization</span>)      │                        │                │                        │\n",
              "├───────────────────────────┼────────────────────────┼────────────────┼────────────────────────┤\n",
              "│ conv2d_transpose_5        │ (<span style=\"color: #00d7ff; text-decoration-color: #00d7ff\">None</span>, <span style=\"color: #00af00; text-decoration-color: #00af00\">16</span>, <span style=\"color: #00af00; text-decoration-color: #00af00\">16</span>, <span style=\"color: #00af00; text-decoration-color: #00af00\">256</span>)    │        <span style=\"color: #00af00; text-decoration-color: #00af00\">524,544</span> │ batch_normalization_2… │\n",
              "│ (<span style=\"color: #0087ff; text-decoration-color: #0087ff\">Conv2DTranspose</span>)         │                        │                │                        │\n",
              "├───────────────────────────┼────────────────────────┼────────────────┼────────────────────────┤\n",
              "│ concatenate_5             │ (<span style=\"color: #00d7ff; text-decoration-color: #00d7ff\">None</span>, <span style=\"color: #00af00; text-decoration-color: #00af00\">16</span>, <span style=\"color: #00af00; text-decoration-color: #00af00\">16</span>, <span style=\"color: #00af00; text-decoration-color: #00af00\">512</span>)    │              <span style=\"color: #00af00; text-decoration-color: #00af00\">0</span> │ conv2d_transpose_5[<span style=\"color: #00af00; text-decoration-color: #00af00\">0</span>]… │\n",
              "│ (<span style=\"color: #0087ff; text-decoration-color: #0087ff\">Concatenate</span>)             │                        │                │ batch_normalization_2… │\n",
              "├───────────────────────────┼────────────────────────┼────────────────┼────────────────────────┤\n",
              "│ conv2d_31 (<span style=\"color: #0087ff; text-decoration-color: #0087ff\">Conv2D</span>)        │ (<span style=\"color: #00d7ff; text-decoration-color: #00d7ff\">None</span>, <span style=\"color: #00af00; text-decoration-color: #00af00\">16</span>, <span style=\"color: #00af00; text-decoration-color: #00af00\">16</span>, <span style=\"color: #00af00; text-decoration-color: #00af00\">256</span>)    │      <span style=\"color: #00af00; text-decoration-color: #00af00\">1,179,904</span> │ concatenate_5[<span style=\"color: #00af00; text-decoration-color: #00af00\">0</span>][<span style=\"color: #00af00; text-decoration-color: #00af00\">0</span>]    │\n",
              "├───────────────────────────┼────────────────────────┼────────────────┼────────────────────────┤\n",
              "│ batch_normalization_30    │ (<span style=\"color: #00d7ff; text-decoration-color: #00d7ff\">None</span>, <span style=\"color: #00af00; text-decoration-color: #00af00\">16</span>, <span style=\"color: #00af00; text-decoration-color: #00af00\">16</span>, <span style=\"color: #00af00; text-decoration-color: #00af00\">256</span>)    │          <span style=\"color: #00af00; text-decoration-color: #00af00\">1,024</span> │ conv2d_31[<span style=\"color: #00af00; text-decoration-color: #00af00\">0</span>][<span style=\"color: #00af00; text-decoration-color: #00af00\">0</span>]        │\n",
              "│ (<span style=\"color: #0087ff; text-decoration-color: #0087ff\">BatchNormalization</span>)      │                        │                │                        │\n",
              "├───────────────────────────┼────────────────────────┼────────────────┼────────────────────────┤\n",
              "│ conv2d_32 (<span style=\"color: #0087ff; text-decoration-color: #0087ff\">Conv2D</span>)        │ (<span style=\"color: #00d7ff; text-decoration-color: #00d7ff\">None</span>, <span style=\"color: #00af00; text-decoration-color: #00af00\">16</span>, <span style=\"color: #00af00; text-decoration-color: #00af00\">16</span>, <span style=\"color: #00af00; text-decoration-color: #00af00\">256</span>)    │        <span style=\"color: #00af00; text-decoration-color: #00af00\">590,080</span> │ batch_normalization_3… │\n",
              "├───────────────────────────┼────────────────────────┼────────────────┼────────────────────────┤\n",
              "│ batch_normalization_31    │ (<span style=\"color: #00d7ff; text-decoration-color: #00d7ff\">None</span>, <span style=\"color: #00af00; text-decoration-color: #00af00\">16</span>, <span style=\"color: #00af00; text-decoration-color: #00af00\">16</span>, <span style=\"color: #00af00; text-decoration-color: #00af00\">256</span>)    │          <span style=\"color: #00af00; text-decoration-color: #00af00\">1,024</span> │ conv2d_32[<span style=\"color: #00af00; text-decoration-color: #00af00\">0</span>][<span style=\"color: #00af00; text-decoration-color: #00af00\">0</span>]        │\n",
              "│ (<span style=\"color: #0087ff; text-decoration-color: #0087ff\">BatchNormalization</span>)      │                        │                │                        │\n",
              "├───────────────────────────┼────────────────────────┼────────────────┼────────────────────────┤\n",
              "│ conv2d_transpose_6        │ (<span style=\"color: #00d7ff; text-decoration-color: #00d7ff\">None</span>, <span style=\"color: #00af00; text-decoration-color: #00af00\">32</span>, <span style=\"color: #00af00; text-decoration-color: #00af00\">32</span>, <span style=\"color: #00af00; text-decoration-color: #00af00\">128</span>)    │        <span style=\"color: #00af00; text-decoration-color: #00af00\">131,200</span> │ batch_normalization_3… │\n",
              "│ (<span style=\"color: #0087ff; text-decoration-color: #0087ff\">Conv2DTranspose</span>)         │                        │                │                        │\n",
              "├───────────────────────────┼────────────────────────┼────────────────┼────────────────────────┤\n",
              "│ concatenate_6             │ (<span style=\"color: #00d7ff; text-decoration-color: #00d7ff\">None</span>, <span style=\"color: #00af00; text-decoration-color: #00af00\">32</span>, <span style=\"color: #00af00; text-decoration-color: #00af00\">32</span>, <span style=\"color: #00af00; text-decoration-color: #00af00\">256</span>)    │              <span style=\"color: #00af00; text-decoration-color: #00af00\">0</span> │ conv2d_transpose_6[<span style=\"color: #00af00; text-decoration-color: #00af00\">0</span>]… │\n",
              "│ (<span style=\"color: #0087ff; text-decoration-color: #0087ff\">Concatenate</span>)             │                        │                │ batch_normalization_2… │\n",
              "├───────────────────────────┼────────────────────────┼────────────────┼────────────────────────┤\n",
              "│ conv2d_33 (<span style=\"color: #0087ff; text-decoration-color: #0087ff\">Conv2D</span>)        │ (<span style=\"color: #00d7ff; text-decoration-color: #00d7ff\">None</span>, <span style=\"color: #00af00; text-decoration-color: #00af00\">32</span>, <span style=\"color: #00af00; text-decoration-color: #00af00\">32</span>, <span style=\"color: #00af00; text-decoration-color: #00af00\">128</span>)    │        <span style=\"color: #00af00; text-decoration-color: #00af00\">295,040</span> │ concatenate_6[<span style=\"color: #00af00; text-decoration-color: #00af00\">0</span>][<span style=\"color: #00af00; text-decoration-color: #00af00\">0</span>]    │\n",
              "├───────────────────────────┼────────────────────────┼────────────────┼────────────────────────┤\n",
              "│ batch_normalization_32    │ (<span style=\"color: #00d7ff; text-decoration-color: #00d7ff\">None</span>, <span style=\"color: #00af00; text-decoration-color: #00af00\">32</span>, <span style=\"color: #00af00; text-decoration-color: #00af00\">32</span>, <span style=\"color: #00af00; text-decoration-color: #00af00\">128</span>)    │            <span style=\"color: #00af00; text-decoration-color: #00af00\">512</span> │ conv2d_33[<span style=\"color: #00af00; text-decoration-color: #00af00\">0</span>][<span style=\"color: #00af00; text-decoration-color: #00af00\">0</span>]        │\n",
              "│ (<span style=\"color: #0087ff; text-decoration-color: #0087ff\">BatchNormalization</span>)      │                        │                │                        │\n",
              "├───────────────────────────┼────────────────────────┼────────────────┼────────────────────────┤\n",
              "│ conv2d_34 (<span style=\"color: #0087ff; text-decoration-color: #0087ff\">Conv2D</span>)        │ (<span style=\"color: #00d7ff; text-decoration-color: #00d7ff\">None</span>, <span style=\"color: #00af00; text-decoration-color: #00af00\">32</span>, <span style=\"color: #00af00; text-decoration-color: #00af00\">32</span>, <span style=\"color: #00af00; text-decoration-color: #00af00\">128</span>)    │        <span style=\"color: #00af00; text-decoration-color: #00af00\">147,584</span> │ batch_normalization_3… │\n",
              "├───────────────────────────┼────────────────────────┼────────────────┼────────────────────────┤\n",
              "│ batch_normalization_33    │ (<span style=\"color: #00d7ff; text-decoration-color: #00d7ff\">None</span>, <span style=\"color: #00af00; text-decoration-color: #00af00\">32</span>, <span style=\"color: #00af00; text-decoration-color: #00af00\">32</span>, <span style=\"color: #00af00; text-decoration-color: #00af00\">128</span>)    │            <span style=\"color: #00af00; text-decoration-color: #00af00\">512</span> │ conv2d_34[<span style=\"color: #00af00; text-decoration-color: #00af00\">0</span>][<span style=\"color: #00af00; text-decoration-color: #00af00\">0</span>]        │\n",
              "│ (<span style=\"color: #0087ff; text-decoration-color: #0087ff\">BatchNormalization</span>)      │                        │                │                        │\n",
              "├───────────────────────────┼────────────────────────┼────────────────┼────────────────────────┤\n",
              "│ conv2d_transpose_7        │ (<span style=\"color: #00d7ff; text-decoration-color: #00d7ff\">None</span>, <span style=\"color: #00af00; text-decoration-color: #00af00\">64</span>, <span style=\"color: #00af00; text-decoration-color: #00af00\">64</span>, <span style=\"color: #00af00; text-decoration-color: #00af00\">64</span>)     │         <span style=\"color: #00af00; text-decoration-color: #00af00\">32,832</span> │ batch_normalization_3… │\n",
              "│ (<span style=\"color: #0087ff; text-decoration-color: #0087ff\">Conv2DTranspose</span>)         │                        │                │                        │\n",
              "├───────────────────────────┼────────────────────────┼────────────────┼────────────────────────┤\n",
              "│ concatenate_7             │ (<span style=\"color: #00d7ff; text-decoration-color: #00d7ff\">None</span>, <span style=\"color: #00af00; text-decoration-color: #00af00\">64</span>, <span style=\"color: #00af00; text-decoration-color: #00af00\">64</span>, <span style=\"color: #00af00; text-decoration-color: #00af00\">128</span>)    │              <span style=\"color: #00af00; text-decoration-color: #00af00\">0</span> │ conv2d_transpose_7[<span style=\"color: #00af00; text-decoration-color: #00af00\">0</span>]… │\n",
              "│ (<span style=\"color: #0087ff; text-decoration-color: #0087ff\">Concatenate</span>)             │                        │                │ batch_normalization_1… │\n",
              "├───────────────────────────┼────────────────────────┼────────────────┼────────────────────────┤\n",
              "│ conv2d_35 (<span style=\"color: #0087ff; text-decoration-color: #0087ff\">Conv2D</span>)        │ (<span style=\"color: #00d7ff; text-decoration-color: #00d7ff\">None</span>, <span style=\"color: #00af00; text-decoration-color: #00af00\">64</span>, <span style=\"color: #00af00; text-decoration-color: #00af00\">64</span>, <span style=\"color: #00af00; text-decoration-color: #00af00\">64</span>)     │         <span style=\"color: #00af00; text-decoration-color: #00af00\">73,792</span> │ concatenate_7[<span style=\"color: #00af00; text-decoration-color: #00af00\">0</span>][<span style=\"color: #00af00; text-decoration-color: #00af00\">0</span>]    │\n",
              "├───────────────────────────┼────────────────────────┼────────────────┼────────────────────────┤\n",
              "│ batch_normalization_34    │ (<span style=\"color: #00d7ff; text-decoration-color: #00d7ff\">None</span>, <span style=\"color: #00af00; text-decoration-color: #00af00\">64</span>, <span style=\"color: #00af00; text-decoration-color: #00af00\">64</span>, <span style=\"color: #00af00; text-decoration-color: #00af00\">64</span>)     │            <span style=\"color: #00af00; text-decoration-color: #00af00\">256</span> │ conv2d_35[<span style=\"color: #00af00; text-decoration-color: #00af00\">0</span>][<span style=\"color: #00af00; text-decoration-color: #00af00\">0</span>]        │\n",
              "│ (<span style=\"color: #0087ff; text-decoration-color: #0087ff\">BatchNormalization</span>)      │                        │                │                        │\n",
              "├───────────────────────────┼────────────────────────┼────────────────┼────────────────────────┤\n",
              "│ conv2d_36 (<span style=\"color: #0087ff; text-decoration-color: #0087ff\">Conv2D</span>)        │ (<span style=\"color: #00d7ff; text-decoration-color: #00d7ff\">None</span>, <span style=\"color: #00af00; text-decoration-color: #00af00\">64</span>, <span style=\"color: #00af00; text-decoration-color: #00af00\">64</span>, <span style=\"color: #00af00; text-decoration-color: #00af00\">64</span>)     │         <span style=\"color: #00af00; text-decoration-color: #00af00\">36,928</span> │ batch_normalization_3… │\n",
              "├───────────────────────────┼────────────────────────┼────────────────┼────────────────────────┤\n",
              "│ batch_normalization_35    │ (<span style=\"color: #00d7ff; text-decoration-color: #00d7ff\">None</span>, <span style=\"color: #00af00; text-decoration-color: #00af00\">64</span>, <span style=\"color: #00af00; text-decoration-color: #00af00\">64</span>, <span style=\"color: #00af00; text-decoration-color: #00af00\">64</span>)     │            <span style=\"color: #00af00; text-decoration-color: #00af00\">256</span> │ conv2d_36[<span style=\"color: #00af00; text-decoration-color: #00af00\">0</span>][<span style=\"color: #00af00; text-decoration-color: #00af00\">0</span>]        │\n",
              "│ (<span style=\"color: #0087ff; text-decoration-color: #0087ff\">BatchNormalization</span>)      │                        │                │                        │\n",
              "├───────────────────────────┼────────────────────────┼────────────────┼────────────────────────┤\n",
              "│ conv2d_37 (<span style=\"color: #0087ff; text-decoration-color: #0087ff\">Conv2D</span>)        │ (<span style=\"color: #00d7ff; text-decoration-color: #00d7ff\">None</span>, <span style=\"color: #00af00; text-decoration-color: #00af00\">64</span>, <span style=\"color: #00af00; text-decoration-color: #00af00\">64</span>, <span style=\"color: #00af00; text-decoration-color: #00af00\">1</span>)      │             <span style=\"color: #00af00; text-decoration-color: #00af00\">65</span> │ batch_normalization_3… │\n",
              "└───────────────────────────┴────────────────────────┴────────────────┴────────────────────────┘\n",
              "</pre>\n"
            ]
          },
          "metadata": {}
        },
        {
          "output_type": "display_data",
          "data": {
            "text/plain": [
              "\u001b[1m Total params: \u001b[0m\u001b[38;5;34m31,055,297\u001b[0m (118.47 MB)\n"
            ],
            "text/html": [
              "<pre style=\"white-space:pre;overflow-x:auto;line-height:normal;font-family:Menlo,'DejaVu Sans Mono',consolas,'Courier New',monospace\"><span style=\"font-weight: bold\"> Total params: </span><span style=\"color: #00af00; text-decoration-color: #00af00\">31,055,297</span> (118.47 MB)\n",
              "</pre>\n"
            ]
          },
          "metadata": {}
        },
        {
          "output_type": "display_data",
          "data": {
            "text/plain": [
              "\u001b[1m Trainable params: \u001b[0m\u001b[38;5;34m31,043,521\u001b[0m (118.42 MB)\n"
            ],
            "text/html": [
              "<pre style=\"white-space:pre;overflow-x:auto;line-height:normal;font-family:Menlo,'DejaVu Sans Mono',consolas,'Courier New',monospace\"><span style=\"font-weight: bold\"> Trainable params: </span><span style=\"color: #00af00; text-decoration-color: #00af00\">31,043,521</span> (118.42 MB)\n",
              "</pre>\n"
            ]
          },
          "metadata": {}
        },
        {
          "output_type": "display_data",
          "data": {
            "text/plain": [
              "\u001b[1m Non-trainable params: \u001b[0m\u001b[38;5;34m11,776\u001b[0m (46.00 KB)\n"
            ],
            "text/html": [
              "<pre style=\"white-space:pre;overflow-x:auto;line-height:normal;font-family:Menlo,'DejaVu Sans Mono',consolas,'Courier New',monospace\"><span style=\"font-weight: bold\"> Non-trainable params: </span><span style=\"color: #00af00; text-decoration-color: #00af00\">11,776</span> (46.00 KB)\n",
              "</pre>\n"
            ]
          },
          "metadata": {}
        }
      ]
    },
    {
      "cell_type": "markdown",
      "source": [
        "# COMPILING AND TRAINING THE MODEL"
      ],
      "metadata": {
        "id": "TE3MjS9dCZ6A"
      }
    },
    {
      "cell_type": "code",
      "source": [
        "model.compile(optimizer = 'adam', loss = keras.losses.BinaryCrossentropy(), metrics = ['accuracy'])"
      ],
      "metadata": {
        "execution": {
          "iopub.status.busy": "2024-05-24T09:00:07.434095Z",
          "iopub.execute_input": "2024-05-24T09:00:07.434465Z",
          "iopub.status.idle": "2024-05-24T09:00:07.449099Z",
          "shell.execute_reply.started": "2024-05-24T09:00:07.434431Z",
          "shell.execute_reply": "2024-05-24T09:00:07.448139Z"
        },
        "trusted": true,
        "id": "2vZW-fENCZ6A"
      },
      "execution_count": 23,
      "outputs": []
    },
    {
      "cell_type": "code",
      "source": [
        "with tf.device(\"/device:GPU:0\"):\n",
        "    starting_time= time.time()\n",
        "    history = model.fit(dataset, batch_size = 32, epochs = 50, verbose = 1)\n",
        "    print('Total time', time.time() - starting_time)\n"
      ],
      "metadata": {
        "execution": {
          "iopub.status.busy": "2024-05-24T09:00:07.450322Z",
          "iopub.execute_input": "2024-05-24T09:00:07.450679Z",
          "iopub.status.idle": "2024-05-24T09:49:25.636634Z",
          "shell.execute_reply.started": "2024-05-24T09:00:07.450645Z",
          "shell.execute_reply": "2024-05-24T09:49:25.635658Z"
        },
        "trusted": true,
        "id": "A3eTn_HvCZ6A",
        "outputId": "91c2e312-dfed-4ae3-8dcc-48b013a80110",
        "colab": {
          "base_uri": "https://localhost:8080/"
        }
      },
      "execution_count": 24,
      "outputs": [
        {
          "output_type": "stream",
          "name": "stdout",
          "text": [
            "Epoch 1/50\n",
            "\u001b[1m63/63\u001b[0m \u001b[32m━━━━━━━━━━━━━━━━━━━━\u001b[0m\u001b[37m\u001b[0m \u001b[1m55s\u001b[0m 738ms/step - accuracy: 0.5735 - loss: 0.6432\n",
            "Epoch 2/50\n",
            "\u001b[1m63/63\u001b[0m \u001b[32m━━━━━━━━━━━━━━━━━━━━\u001b[0m\u001b[37m\u001b[0m \u001b[1m71s\u001b[0m 689ms/step - accuracy: 0.6361 - loss: 0.4894\n",
            "Epoch 3/50\n",
            "\u001b[1m63/63\u001b[0m \u001b[32m━━━━━━━━━━━━━━━━━━━━\u001b[0m\u001b[37m\u001b[0m \u001b[1m43s\u001b[0m 677ms/step - accuracy: 0.6495 - loss: 0.4641\n",
            "Epoch 4/50\n",
            "\u001b[1m63/63\u001b[0m \u001b[32m━━━━━━━━━━━━━━━━━━━━\u001b[0m\u001b[37m\u001b[0m \u001b[1m43s\u001b[0m 687ms/step - accuracy: 0.6578 - loss: 0.4371\n",
            "Epoch 5/50\n",
            "\u001b[1m63/63\u001b[0m \u001b[32m━━━━━━━━━━━━━━━━━━━━\u001b[0m\u001b[37m\u001b[0m \u001b[1m45s\u001b[0m 706ms/step - accuracy: 0.6599 - loss: 0.4363\n",
            "Epoch 6/50\n",
            "\u001b[1m63/63\u001b[0m \u001b[32m━━━━━━━━━━━━━━━━━━━━\u001b[0m\u001b[37m\u001b[0m \u001b[1m81s\u001b[0m 684ms/step - accuracy: 0.6587 - loss: 0.4488\n",
            "Epoch 7/50\n",
            "\u001b[1m63/63\u001b[0m \u001b[32m━━━━━━━━━━━━━━━━━━━━\u001b[0m\u001b[37m\u001b[0m \u001b[1m82s\u001b[0m 680ms/step - accuracy: 0.6670 - loss: 0.4285\n",
            "Epoch 8/50\n",
            "\u001b[1m63/63\u001b[0m \u001b[32m━━━━━━━━━━━━━━━━━━━━\u001b[0m\u001b[37m\u001b[0m \u001b[1m43s\u001b[0m 683ms/step - accuracy: 0.6644 - loss: 0.4249\n",
            "Epoch 9/50\n",
            "\u001b[1m63/63\u001b[0m \u001b[32m━━━━━━━━━━━━━━━━━━━━\u001b[0m\u001b[37m\u001b[0m \u001b[1m81s\u001b[0m 675ms/step - accuracy: 0.6742 - loss: 0.4066\n",
            "Epoch 10/50\n",
            "\u001b[1m63/63\u001b[0m \u001b[32m━━━━━━━━━━━━━━━━━━━━\u001b[0m\u001b[37m\u001b[0m \u001b[1m82s\u001b[0m 676ms/step - accuracy: 0.6738 - loss: 0.4143\n",
            "Epoch 11/50\n",
            "\u001b[1m63/63\u001b[0m \u001b[32m━━━━━━━━━━━━━━━━━━━━\u001b[0m\u001b[37m\u001b[0m \u001b[1m82s\u001b[0m 678ms/step - accuracy: 0.6823 - loss: 0.3900\n",
            "Epoch 12/50\n",
            "\u001b[1m63/63\u001b[0m \u001b[32m━━━━━━━━━━━━━━━━━━━━\u001b[0m\u001b[37m\u001b[0m \u001b[1m83s\u001b[0m 686ms/step - accuracy: 0.6855 - loss: 0.3841\n",
            "Epoch 13/50\n",
            "\u001b[1m63/63\u001b[0m \u001b[32m━━━━━━━━━━━━━━━━━━━━\u001b[0m\u001b[37m\u001b[0m \u001b[1m43s\u001b[0m 690ms/step - accuracy: 0.6872 - loss: 0.3802\n",
            "Epoch 14/50\n",
            "\u001b[1m63/63\u001b[0m \u001b[32m━━━━━━━━━━━━━━━━━━━━\u001b[0m\u001b[37m\u001b[0m \u001b[1m81s\u001b[0m 677ms/step - accuracy: 0.6910 - loss: 0.3783\n",
            "Epoch 15/50\n",
            "\u001b[1m63/63\u001b[0m \u001b[32m━━━━━━━━━━━━━━━━━━━━\u001b[0m\u001b[37m\u001b[0m \u001b[1m83s\u001b[0m 694ms/step - accuracy: 0.6971 - loss: 0.3616\n",
            "Epoch 16/50\n",
            "\u001b[1m63/63\u001b[0m \u001b[32m━━━━━━━━━━━━━━━━━━━━\u001b[0m\u001b[37m\u001b[0m \u001b[1m81s\u001b[0m 683ms/step - accuracy: 0.6905 - loss: 0.3713\n",
            "Epoch 17/50\n",
            "\u001b[1m63/63\u001b[0m \u001b[32m━━━━━━━━━━━━━━━━━━━━\u001b[0m\u001b[37m\u001b[0m \u001b[1m82s\u001b[0m 683ms/step - accuracy: 0.6947 - loss: 0.3589\n",
            "Epoch 18/50\n",
            "\u001b[1m63/63\u001b[0m \u001b[32m━━━━━━━━━━━━━━━━━━━━\u001b[0m\u001b[37m\u001b[0m \u001b[1m81s\u001b[0m 675ms/step - accuracy: 0.7023 - loss: 0.3515\n",
            "Epoch 19/50\n",
            "\u001b[1m63/63\u001b[0m \u001b[32m━━━━━━━━━━━━━━━━━━━━\u001b[0m\u001b[37m\u001b[0m \u001b[1m43s\u001b[0m 681ms/step - accuracy: 0.7004 - loss: 0.3523\n",
            "Epoch 20/50\n",
            "\u001b[1m63/63\u001b[0m \u001b[32m━━━━━━━━━━━━━━━━━━━━\u001b[0m\u001b[37m\u001b[0m \u001b[1m82s\u001b[0m 680ms/step - accuracy: 0.7061 - loss: 0.3445\n",
            "Epoch 21/50\n",
            "\u001b[1m63/63\u001b[0m \u001b[32m━━━━━━━━━━━━━━━━━━━━\u001b[0m\u001b[37m\u001b[0m \u001b[1m43s\u001b[0m 684ms/step - accuracy: 0.7079 - loss: 0.3423\n",
            "Epoch 22/50\n",
            "\u001b[1m63/63\u001b[0m \u001b[32m━━━━━━━━━━━━━━━━━━━━\u001b[0m\u001b[37m\u001b[0m \u001b[1m43s\u001b[0m 676ms/step - accuracy: 0.7065 - loss: 0.3375\n",
            "Epoch 23/50\n",
            "\u001b[1m63/63\u001b[0m \u001b[32m━━━━━━━━━━━━━━━━━━━━\u001b[0m\u001b[37m\u001b[0m \u001b[1m43s\u001b[0m 678ms/step - accuracy: 0.7117 - loss: 0.3299\n",
            "Epoch 24/50\n",
            "\u001b[1m63/63\u001b[0m \u001b[32m━━━━━━━━━━━━━━━━━━━━\u001b[0m\u001b[37m\u001b[0m \u001b[1m82s\u001b[0m 676ms/step - accuracy: 0.7172 - loss: 0.3136\n",
            "Epoch 25/50\n",
            "\u001b[1m63/63\u001b[0m \u001b[32m━━━━━━━━━━━━━━━━━━━━\u001b[0m\u001b[37m\u001b[0m \u001b[1m82s\u001b[0m 678ms/step - accuracy: 0.7197 - loss: 0.3094\n",
            "Epoch 26/50\n",
            "\u001b[1m63/63\u001b[0m \u001b[32m━━━━━━━━━━━━━━━━━━━━\u001b[0m\u001b[37m\u001b[0m \u001b[1m81s\u001b[0m 675ms/step - accuracy: 0.7147 - loss: 0.3191\n",
            "Epoch 27/50\n",
            "\u001b[1m63/63\u001b[0m \u001b[32m━━━━━━━━━━━━━━━━━━━━\u001b[0m\u001b[37m\u001b[0m \u001b[1m82s\u001b[0m 675ms/step - accuracy: 0.7200 - loss: 0.3082\n",
            "Epoch 28/50\n",
            "\u001b[1m63/63\u001b[0m \u001b[32m━━━━━━━━━━━━━━━━━━━━\u001b[0m\u001b[37m\u001b[0m \u001b[1m82s\u001b[0m 677ms/step - accuracy: 0.7173 - loss: 0.3107\n",
            "Epoch 29/50\n",
            "\u001b[1m63/63\u001b[0m \u001b[32m━━━━━━━━━━━━━━━━━━━━\u001b[0m\u001b[37m\u001b[0m \u001b[1m44s\u001b[0m 695ms/step - accuracy: 0.7087 - loss: 0.3391\n",
            "Epoch 30/50\n",
            "\u001b[1m63/63\u001b[0m \u001b[32m━━━━━━━━━━━━━━━━━━━━\u001b[0m\u001b[37m\u001b[0m \u001b[1m81s\u001b[0m 679ms/step - accuracy: 0.7212 - loss: 0.3035\n",
            "Epoch 31/50\n",
            "\u001b[1m63/63\u001b[0m \u001b[32m━━━━━━━━━━━━━━━━━━━━\u001b[0m\u001b[37m\u001b[0m \u001b[1m81s\u001b[0m 672ms/step - accuracy: 0.7247 - loss: 0.2904\n",
            "Epoch 32/50\n",
            "\u001b[1m63/63\u001b[0m \u001b[32m━━━━━━━━━━━━━━━━━━━━\u001b[0m\u001b[37m\u001b[0m \u001b[1m43s\u001b[0m 676ms/step - accuracy: 0.7277 - loss: 0.2813\n",
            "Epoch 33/50\n",
            "\u001b[1m63/63\u001b[0m \u001b[32m━━━━━━━━━━━━━━━━━━━━\u001b[0m\u001b[37m\u001b[0m \u001b[1m82s\u001b[0m 672ms/step - accuracy: 0.7312 - loss: 0.2724\n",
            "Epoch 34/50\n",
            "\u001b[1m63/63\u001b[0m \u001b[32m━━━━━━━━━━━━━━━━━━━━\u001b[0m\u001b[37m\u001b[0m \u001b[1m43s\u001b[0m 684ms/step - accuracy: 0.7232 - loss: 0.2841\n",
            "Epoch 35/50\n",
            "\u001b[1m63/63\u001b[0m \u001b[32m━━━━━━━━━━━━━━━━━━━━\u001b[0m\u001b[37m\u001b[0m \u001b[1m81s\u001b[0m 674ms/step - accuracy: 0.7268 - loss: 0.2832\n",
            "Epoch 36/50\n",
            "\u001b[1m63/63\u001b[0m \u001b[32m━━━━━━━━━━━━━━━━━━━━\u001b[0m\u001b[37m\u001b[0m \u001b[1m82s\u001b[0m 673ms/step - accuracy: 0.7286 - loss: 0.2767\n",
            "Epoch 37/50\n",
            "\u001b[1m63/63\u001b[0m \u001b[32m━━━━━━━━━━━━━━━━━━━━\u001b[0m\u001b[37m\u001b[0m \u001b[1m82s\u001b[0m 678ms/step - accuracy: 0.7347 - loss: 0.2620\n",
            "Epoch 38/50\n",
            "\u001b[1m63/63\u001b[0m \u001b[32m━━━━━━━━━━━━━━━━━━━━\u001b[0m\u001b[37m\u001b[0m \u001b[1m83s\u001b[0m 695ms/step - accuracy: 0.7296 - loss: 0.2731\n",
            "Epoch 39/50\n",
            "\u001b[1m63/63\u001b[0m \u001b[32m━━━━━━━━━━━━━━━━━━━━\u001b[0m\u001b[37m\u001b[0m \u001b[1m81s\u001b[0m 679ms/step - accuracy: 0.7350 - loss: 0.2665\n",
            "Epoch 40/50\n",
            "\u001b[1m63/63\u001b[0m \u001b[32m━━━━━━━━━━━━━━━━━━━━\u001b[0m\u001b[37m\u001b[0m \u001b[1m43s\u001b[0m 683ms/step - accuracy: 0.7317 - loss: 0.2690\n",
            "Epoch 41/50\n",
            "\u001b[1m63/63\u001b[0m \u001b[32m━━━━━━━━━━━━━━━━━━━━\u001b[0m\u001b[37m\u001b[0m \u001b[1m42s\u001b[0m 671ms/step - accuracy: 0.7346 - loss: 0.2607\n",
            "Epoch 42/50\n",
            "\u001b[1m63/63\u001b[0m \u001b[32m━━━━━━━━━━━━━━━━━━━━\u001b[0m\u001b[37m\u001b[0m \u001b[1m43s\u001b[0m 676ms/step - accuracy: 0.7363 - loss: 0.2547\n",
            "Epoch 43/50\n",
            "\u001b[1m63/63\u001b[0m \u001b[32m━━━━━━━━━━━━━━━━━━━━\u001b[0m\u001b[37m\u001b[0m \u001b[1m44s\u001b[0m 688ms/step - accuracy: 0.7369 - loss: 0.2502\n",
            "Epoch 44/50\n",
            "\u001b[1m63/63\u001b[0m \u001b[32m━━━━━━━━━━━━━━━━━━━━\u001b[0m\u001b[37m\u001b[0m \u001b[1m43s\u001b[0m 676ms/step - accuracy: 0.7370 - loss: 0.2523\n",
            "Epoch 45/50\n",
            "\u001b[1m63/63\u001b[0m \u001b[32m━━━━━━━━━━━━━━━━━━━━\u001b[0m\u001b[37m\u001b[0m \u001b[1m43s\u001b[0m 678ms/step - accuracy: 0.7389 - loss: 0.2450\n",
            "Epoch 46/50\n",
            "\u001b[1m63/63\u001b[0m \u001b[32m━━━━━━━━━━━━━━━━━━━━\u001b[0m\u001b[37m\u001b[0m \u001b[1m43s\u001b[0m 677ms/step - accuracy: 0.7429 - loss: 0.2368\n",
            "Epoch 47/50\n",
            "\u001b[1m63/63\u001b[0m \u001b[32m━━━━━━━━━━━━━━━━━━━━\u001b[0m\u001b[37m\u001b[0m \u001b[1m82s\u001b[0m 679ms/step - accuracy: 0.7454 - loss: 0.2258\n",
            "Epoch 48/50\n",
            "\u001b[1m63/63\u001b[0m \u001b[32m━━━━━━━━━━━━━━━━━━━━\u001b[0m\u001b[37m\u001b[0m \u001b[1m81s\u001b[0m 672ms/step - accuracy: 0.7389 - loss: 0.2465\n",
            "Epoch 49/50\n",
            "\u001b[1m63/63\u001b[0m \u001b[32m━━━━━━━━━━━━━━━━━━━━\u001b[0m\u001b[37m\u001b[0m \u001b[1m44s\u001b[0m 689ms/step - accuracy: 0.7241 - loss: 0.2852\n",
            "Epoch 50/50\n",
            "\u001b[1m63/63\u001b[0m \u001b[32m━━━━━━━━━━━━━━━━━━━━\u001b[0m\u001b[37m\u001b[0m \u001b[1m81s\u001b[0m 680ms/step - accuracy: 0.7347 - loss: 0.2608\n",
            "Total time 3314.2628269195557\n"
          ]
        }
      ]
    },
    {
      "cell_type": "markdown",
      "source": [
        "# PREDICTION USING TEST DATASET"
      ],
      "metadata": {
        "id": "6O2Hu72bCZ6A"
      }
    },
    {
      "cell_type": "code",
      "source": [
        "test_img_file = '/root/.cache/kagglehub/datasets/franciscoescobar/satellite-images-of-water-bodies/versions/2/Water Bodies Dataset/Images/*.jpg'\n",
        "test_img_files = []\n",
        "for files in sorted(glob.glob(test_img_file)):\n",
        "    test_img_files.append(files)\n",
        "print(len(test_img_files))"
      ],
      "metadata": {
        "execution": {
          "iopub.status.busy": "2024-05-24T09:49:25.638073Z",
          "iopub.execute_input": "2024-05-24T09:49:25.638388Z",
          "iopub.status.idle": "2024-05-24T09:49:29.57642Z",
          "shell.execute_reply.started": "2024-05-24T09:49:25.638361Z",
          "shell.execute_reply": "2024-05-24T09:49:29.575402Z"
        },
        "trusted": true,
        "id": "jW5qvrSGCZ6A",
        "colab": {
          "base_uri": "https://localhost:8080/"
        },
        "outputId": "36921dcd-9138-4b1d-aa8f-395502b32ae3"
      },
      "execution_count": 33,
      "outputs": [
        {
          "output_type": "stream",
          "name": "stdout",
          "text": [
            "2841\n"
          ]
        }
      ]
    },
    {
      "cell_type": "code",
      "source": [
        "test_mask_file = '/root/.cache/kagglehub/datasets/franciscoescobar/satellite-images-of-water-bodies/versions/2/Water Bodies Dataset/Masks/*.jpg'\n",
        "test_mask_files = []\n",
        "for files in sorted(glob.glob(test_mask_file)):\n",
        "    test_mask_files.append(files)\n",
        "print(len(test_mask_files))"
      ],
      "metadata": {
        "execution": {
          "iopub.status.busy": "2024-05-24T09:49:29.577575Z",
          "iopub.execute_input": "2024-05-24T09:49:29.577857Z",
          "iopub.status.idle": "2024-05-24T09:49:34.137622Z",
          "shell.execute_reply.started": "2024-05-24T09:49:29.577833Z",
          "shell.execute_reply": "2024-05-24T09:49:34.136807Z"
        },
        "trusted": true,
        "id": "fVAWXqFTCZ6A",
        "colab": {
          "base_uri": "https://localhost:8080/"
        },
        "outputId": "cf803d57-d29f-480e-bb3a-66cdad63df88"
      },
      "execution_count": 35,
      "outputs": [
        {
          "output_type": "stream",
          "name": "stdout",
          "text": [
            "2841\n"
          ]
        }
      ]
    },
    {
      "cell_type": "code",
      "source": [
        "test_dataset = tf.data.Dataset.from_tensor_slices(test_img_files)"
      ],
      "metadata": {
        "execution": {
          "iopub.status.busy": "2024-05-24T09:49:34.138735Z",
          "iopub.execute_input": "2024-05-24T09:49:34.139029Z",
          "iopub.status.idle": "2024-05-24T09:49:34.155167Z",
          "shell.execute_reply.started": "2024-05-24T09:49:34.139003Z",
          "shell.execute_reply": "2024-05-24T09:49:34.154384Z"
        },
        "trusted": true,
        "id": "L8mkdT60CZ6A"
      },
      "execution_count": 36,
      "outputs": []
    },
    {
      "cell_type": "code",
      "source": [
        "def decode_test_images(img_filename):\n",
        "    image_string = tf.io.read_file(img_filename)\n",
        "\n",
        "\n",
        "    #Don't use tf.image.decode_image, or the output shape will be undefined\n",
        "    image = tf.image.decode_jpeg(image_string, channels=3)\n",
        "\n",
        "\n",
        "    #This will convert to float values in [0, 1]\n",
        "    image = tf.image.convert_image_dtype(image, tf.float32)\n",
        "\n",
        "\n",
        "    image = tf.image.resize(image, [64, 64])\n",
        "\n",
        "\n",
        "    return image"
      ],
      "metadata": {
        "execution": {
          "iopub.status.busy": "2024-05-24T09:49:34.156238Z",
          "iopub.execute_input": "2024-05-24T09:49:34.156568Z",
          "iopub.status.idle": "2024-05-24T09:49:34.165744Z",
          "shell.execute_reply.started": "2024-05-24T09:49:34.156542Z",
          "shell.execute_reply": "2024-05-24T09:49:34.164936Z"
        },
        "trusted": true,
        "id": "2uc4Fg-dCZ6B"
      },
      "execution_count": 37,
      "outputs": []
    },
    {
      "cell_type": "code",
      "source": [
        "test_dataset = test_dataset.map(decode_test_images)\n",
        "#test_dataset = test_dataset.batch(16)"
      ],
      "metadata": {
        "execution": {
          "iopub.status.busy": "2024-05-24T09:49:34.166649Z",
          "iopub.execute_input": "2024-05-24T09:49:34.166932Z",
          "iopub.status.idle": "2024-05-24T09:49:34.248119Z",
          "shell.execute_reply.started": "2024-05-24T09:49:34.166908Z",
          "shell.execute_reply": "2024-05-24T09:49:34.24741Z"
        },
        "trusted": true,
        "id": "vxEmCEvmCZ6B",
        "colab": {
          "base_uri": "https://localhost:8080/"
        },
        "outputId": "3954b301-b382-4af0-ce92-e781cdcdb630"
      },
      "execution_count": 38,
      "outputs": [
        {
          "output_type": "stream",
          "name": "stderr",
          "text": [
            "/usr/local/lib/python3.10/dist-packages/tensorflow/python/data/ops/structured_function.py:258: UserWarning: Even though the `tf.config.experimental_run_functions_eagerly` option is set, this option does not apply to tf.data functions. To force eager execution of tf.data functions, please use `tf.data.experimental.enable_debug_mode()`.\n",
            "  warnings.warn(\n"
          ]
        }
      ]
    },
    {
      "cell_type": "code",
      "source": [
        "test_dataset = test_dataset.batch(16)"
      ],
      "metadata": {
        "execution": {
          "iopub.status.busy": "2024-05-24T09:49:34.249293Z",
          "iopub.execute_input": "2024-05-24T09:49:34.249555Z",
          "iopub.status.idle": "2024-05-24T09:49:34.254323Z",
          "shell.execute_reply.started": "2024-05-24T09:49:34.249532Z",
          "shell.execute_reply": "2024-05-24T09:49:34.253464Z"
        },
        "trusted": true,
        "id": "JmaXSYqUCZ6B"
      },
      "execution_count": 39,
      "outputs": []
    },
    {
      "cell_type": "code",
      "source": [
        "im = next(iter(test_dataset))"
      ],
      "metadata": {
        "execution": {
          "iopub.status.busy": "2024-05-24T09:49:34.255489Z",
          "iopub.execute_input": "2024-05-24T09:49:34.255971Z",
          "iopub.status.idle": "2024-05-24T09:49:34.459116Z",
          "shell.execute_reply.started": "2024-05-24T09:49:34.255946Z",
          "shell.execute_reply": "2024-05-24T09:49:34.458285Z"
        },
        "trusted": true,
        "id": "nGHmf72ECZ6B"
      },
      "execution_count": 40,
      "outputs": []
    },
    {
      "cell_type": "code",
      "source": [
        "plt.imshow(im[1])"
      ],
      "metadata": {
        "execution": {
          "iopub.status.busy": "2024-05-24T09:49:34.460516Z",
          "iopub.execute_input": "2024-05-24T09:49:34.461146Z",
          "iopub.status.idle": "2024-05-24T09:49:34.828227Z",
          "shell.execute_reply.started": "2024-05-24T09:49:34.461107Z",
          "shell.execute_reply": "2024-05-24T09:49:34.827356Z"
        },
        "trusted": true,
        "id": "QIM-2OrPCZ6B",
        "colab": {
          "base_uri": "https://localhost:8080/",
          "height": 448
        },
        "outputId": "0feb5121-90c8-48f0-ec7d-0fce14c58b63"
      },
      "execution_count": 41,
      "outputs": [
        {
          "output_type": "execute_result",
          "data": {
            "text/plain": [
              "<matplotlib.image.AxesImage at 0x7f742adf2e00>"
            ]
          },
          "metadata": {},
          "execution_count": 41
        },
        {
          "output_type": "display_data",
          "data": {
            "text/plain": [
              "<Figure size 640x480 with 1 Axes>"
            ],
            "image/png": "[encoded data removed]"
          },
          "metadata": {}
        }
      ]
    },
    {
      "cell_type": "code",
      "source": [
        "test_dataset"
      ],
      "metadata": {
        "execution": {
          "iopub.status.busy": "2024-05-24T09:49:34.829577Z",
          "iopub.execute_input": "2024-05-24T09:49:34.829861Z",
          "iopub.status.idle": "2024-05-24T09:49:34.835425Z",
          "shell.execute_reply.started": "2024-05-24T09:49:34.829835Z",
          "shell.execute_reply": "2024-05-24T09:49:34.834585Z"
        },
        "trusted": true,
        "id": "lT2VqmeMCZ6B",
        "colab": {
          "base_uri": "https://localhost:8080/"
        },
        "outputId": "500b413c-9ac9-4cb4-8305-6dd56a581809"
      },
      "execution_count": 42,
      "outputs": [
        {
          "output_type": "execute_result",
          "data": {
            "text/plain": [
              "<_BatchDataset element_spec=TensorSpec(shape=(None, 64, 64, 3), dtype=tf.float32, name=None)>"
            ]
          },
          "metadata": {},
          "execution_count": 42
        }
      ]
    },
    {
      "cell_type": "code",
      "source": [
        " output = model.predict(test_dataset, batch_size = 16)"
      ],
      "metadata": {
        "execution": {
          "iopub.status.busy": "2024-05-24T09:49:34.836709Z",
          "iopub.execute_input": "2024-05-24T09:49:34.837588Z",
          "iopub.status.idle": "2024-05-24T09:50:11.707373Z",
          "shell.execute_reply.started": "2024-05-24T09:49:34.837553Z",
          "shell.execute_reply": "2024-05-24T09:50:11.706453Z"
        },
        "trusted": true,
        "id": "iv2Xpe5rCZ6B",
        "colab": {
          "base_uri": "https://localhost:8080/"
        },
        "outputId": "55753a81-06b9-41de-c79e-c73913783de8"
      },
      "execution_count": 43,
      "outputs": [
        {
          "output_type": "stream",
          "name": "stdout",
          "text": [
            "\u001b[1m178/178\u001b[0m \u001b[32m━━━━━━━━━━━━━━━━━━━━\u001b[0m\u001b[37m\u001b[0m \u001b[1m25s\u001b[0m 141ms/step\n"
          ]
        }
      ]
    },
    {
      "cell_type": "code",
      "source": [
        "output.shape"
      ],
      "metadata": {
        "execution": {
          "iopub.status.busy": "2024-05-24T09:50:11.712405Z",
          "iopub.execute_input": "2024-05-24T09:50:11.712689Z",
          "iopub.status.idle": "2024-05-24T09:50:11.718783Z",
          "shell.execute_reply.started": "2024-05-24T09:50:11.712665Z",
          "shell.execute_reply": "2024-05-24T09:50:11.717833Z"
        },
        "trusted": true,
        "id": "5yPfjtXDCZ6C",
        "colab": {
          "base_uri": "https://localhost:8080/"
        },
        "outputId": "05416bc8-36fa-4ffe-ad34-9b9d306a5f49"
      },
      "execution_count": 44,
      "outputs": [
        {
          "output_type": "execute_result",
          "data": {
            "text/plain": [
              "(2841, 64, 64, 1)"
            ]
          },
          "metadata": {},
          "execution_count": 44
        }
      ]
    },
    {
      "cell_type": "code",
      "source": [
        "predictions = []\n",
        "for i in  range(2683):\n",
        "    pred = np.array(output[i])\n",
        "    pred = (pred)\n",
        "    predictions.append(pred)"
      ],
      "metadata": {
        "execution": {
          "iopub.status.busy": "2024-05-24T09:53:20.508428Z",
          "iopub.execute_input": "2024-05-24T09:53:20.509274Z",
          "iopub.status.idle": "2024-05-24T09:53:20.910338Z",
          "shell.execute_reply.started": "2024-05-24T09:53:20.509241Z",
          "shell.execute_reply": "2024-05-24T09:53:20.90953Z"
        },
        "trusted": true,
        "id": "yQJU77goCZ6C"
      },
      "execution_count": 45,
      "outputs": []
    },
    {
      "cell_type": "code",
      "source": [
        "y_test = []\n",
        "for i in range(len(test_mask_files)):\n",
        "    mask = tf.image.decode_jpeg(tf.io.read_file(test_mask_files[i]), channels = 1)\n",
        "    mask = tf.image.resize(mask,[64, 64])\n",
        "    y_test.append(mask)"
      ],
      "metadata": {
        "execution": {
          "iopub.status.busy": "2024-05-24T09:53:23.167284Z",
          "iopub.execute_input": "2024-05-24T09:53:23.167626Z",
          "iopub.status.idle": "2024-05-24T09:53:37.242584Z",
          "shell.execute_reply.started": "2024-05-24T09:53:23.1676Z",
          "shell.execute_reply": "2024-05-24T09:53:37.241564Z"
        },
        "trusted": true,
        "id": "Y9CZ0RpACZ6C"
      },
      "execution_count": 46,
      "outputs": []
    },
    {
      "cell_type": "code",
      "source": [
        "# IoU measurement\n",
        "iou_scores = []\n",
        "for i in range(500):\n",
        "    intersection = np.logical_and(y_test[i], predictions[i])\n",
        "    union = np.logical_or(y_test[i], predictions[i])\n",
        "    iou_score = np.sum(intersection)/np.sum(union)\n",
        "    iou_scores.append(iou_score)\n",
        "print(sum(iou_scores))\n",
        "iou = sum(iou_scores)/2683\n",
        "print(\"IoU score is : \", iou)"
      ],
      "metadata": {
        "execution": {
          "iopub.status.busy": "2024-05-24T09:53:37.244411Z",
          "iopub.execute_input": "2024-05-24T09:53:37.245006Z",
          "iopub.status.idle": "2024-05-24T09:53:37.484688Z",
          "shell.execute_reply.started": "2024-05-24T09:53:37.24497Z",
          "shell.execute_reply": "2024-05-24T09:53:37.483695Z"
        },
        "trusted": true,
        "id": "mI2pHwbnCZ6C",
        "colab": {
          "base_uri": "https://localhost:8080/"
        },
        "outputId": "84733afe-c25a-46de-f89c-4f53ade39e93"
      },
      "execution_count": 47,
      "outputs": [
        {
          "output_type": "stream",
          "name": "stdout",
          "text": [
            "233.546875\n",
            "IoU score is :  0.08704691576593365\n"
          ]
        }
      ]
    },
    {
      "cell_type": "code",
      "source": [
        "plt.imshow((output[0] > 0.1), cmap = 'gray')"
      ],
      "metadata": {
        "execution": {
          "iopub.status.busy": "2024-05-24T09:52:41.280933Z",
          "iopub.execute_input": "2024-05-24T09:52:41.28144Z",
          "iopub.status.idle": "2024-05-24T09:52:41.554426Z",
          "shell.execute_reply.started": "2024-05-24T09:52:41.281408Z",
          "shell.execute_reply": "2024-05-24T09:52:41.553515Z"
        },
        "trusted": true,
        "id": "iw_D7mIiCZ6C",
        "colab": {
          "base_uri": "https://localhost:8080/",
          "height": 448
        },
        "outputId": "92b7eede-6aef-481f-e814-166fbbc3811f"
      },
      "execution_count": 48,
      "outputs": [
        {
          "output_type": "execute_result",
          "data": {
            "text/plain": [
              "<matplotlib.image.AxesImage at 0x7f73fa463970>"
            ]
          },
          "metadata": {},
          "execution_count": 48
        },
        {
          "output_type": "display_data",
          "data": {
            "text/plain": [
              "<Figure size 640x480 with 1 Axes>"
            ],
            "image/png": "[encoded data removed]"
          },
          "metadata": {}
        }
      ]
    },
    {
      "cell_type": "code",
      "source": [
        "fig = plt.figure(figsize =(15, 15))\n",
        "ax1 = fig.add_subplot(121)\n",
        "ax1 = plt.imshow(im[0])\n",
        "ax2 = fig.add_subplot(122)\n",
        "ax2 = plt.imshow(predictions[0], cmap = 'gray')"
      ],
      "metadata": {
        "execution": {
          "iopub.status.busy": "2024-05-24T09:53:55.598318Z",
          "iopub.execute_input": "2024-05-24T09:53:55.598992Z",
          "iopub.status.idle": "2024-05-24T09:53:56.287407Z",
          "shell.execute_reply.started": "2024-05-24T09:53:55.598959Z",
          "shell.execute_reply": "2024-05-24T09:53:56.286416Z"
        },
        "trusted": true,
        "id": "AdB9DMyMCZ6D",
        "colab": {
          "base_uri": "https://localhost:8080/",
          "height": 449
        },
        "outputId": "25be77fe-75e3-46c0-83b9-1667f6933a41"
      },
      "execution_count": 49,
      "outputs": [
        {
          "output_type": "display_data",
          "data": {
            "text/plain": [
              "<Figure size 1500x1500 with 2 Axes>"
            ],
            "image/png": "[encoded data removed]"
          },
          "metadata": {}
        }
      ]
    }
  ]
}